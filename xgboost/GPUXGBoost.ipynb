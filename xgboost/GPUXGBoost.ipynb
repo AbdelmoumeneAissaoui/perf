{
 "cells": [
  {
   "cell_type": "markdown",
   "metadata": {},
   "source": [
    "# XGBoost GPU Benchmarks"
   ]
  },
  {
   "cell_type": "markdown",
   "metadata": {},
   "source": [
    "In this notebook, we benchmark the latest version of [XGBoost](https://github.com/dmlc/xgboost), the well-known Kaggle-winning gradient boosting algorithm, and in particular, the [XGBoost GPU plugin](https://github.com/dmlc/xgboost/blob/master/plugin/updater_gpu/README.md)."
   ]
  },
  {
   "cell_type": "code",
   "execution_count": 1,
   "metadata": {
    "collapsed": true
   },
   "outputs": [],
   "source": [
    "## For comparison between 1 GPU and 1 CPU, we use only 1 CPU:\n",
    "#numactl --physcpubind=0 -C 0 --cpunodebind=0 -N 0 -m 0"
   ]
  },
  {
   "cell_type": "code",
   "execution_count": 2,
   "metadata": {},
   "outputs": [],
   "source": [
    "# First time only: install xgboost, and restart the kernel afterwards\n",
    "#import os\n",
    "#os.system(\"mkdir -p tmp && cd tmp && git clone https://github.com/h2oai/xgboost --recursive && cd xgboost && mkdir build && cd build && cmake .. -DPLUGIN_UPDATER_GPU=ON -DCUB_DIRECTORY=../cub -DCUDA_NVCC_FLAGS=\\\"--expt-extended-lambda -arch=sm_30\\\" && make -j; make; cd ../python-package && sudo python3.6 setup.py install\")"
   ]
  },
  {
   "cell_type": "code",
   "execution_count": 3,
   "metadata": {},
   "outputs": [],
   "source": [
    "%matplotlib inline\n",
    "import xgboost as xgb\n",
    "import pandas as pd\n",
    "import numpy as np\n",
    "import scipy as sp\n",
    "import os\n",
    "import time\n",
    "from sklearn import metrics"
   ]
  },
  {
   "cell_type": "code",
   "execution_count": 4,
   "metadata": {},
   "outputs": [
    {
     "data": {
      "text/plain": [
       "['',\n",
       " '/usr/lib/python36.zip',\n",
       " '/usr/lib/python3.6',\n",
       " '/usr/lib/python3.6/lib-dynload',\n",
       " '/usr/local/lib/python3.6/dist-packages',\n",
       " '/src/py3nvml',\n",
       " '/usr/local/lib/python3.6/dist-packages/xgboost-0.6-py3.6.egg',\n",
       " '/usr/lib/python3/dist-packages',\n",
       " '/usr/local/lib/python3.6/dist-packages/IPython/extensions',\n",
       " '/home/nimbix/.ipython']"
      ]
     },
     "execution_count": 4,
     "metadata": {},
     "output_type": "execute_result"
    }
   ],
   "source": [
    "import sys\n",
    "sys.path"
   ]
  },
  {
   "cell_type": "code",
   "execution_count": 5,
   "metadata": {},
   "outputs": [
    {
     "name": "stderr",
     "output_type": "stream",
     "text": [
      "/usr/local/lib/python3.6/dist-packages/IPython/core/interactiveshell.py:2698: DtypeWarning: Columns (10,22) have mixed types. Specify dtype option on import or set low_memory=False.\n",
      "  interactivity=interactivity, compiler=compiler, result=result)\n"
     ]
    },
    {
     "name": "stdout",
     "output_type": "stream",
     "text": [
      "Time to parse by Pandas (sec):  10.847365617752075\n"
     ]
    }
   ],
   "source": [
    "if True:\n",
    "    ## Airline dataset\n",
    "    ## https://s3.amazonaws.com/h2o-public-test-data/bigdata/laptop/airlines_all.05p.csv\"\n",
    "    path = \"/data/airlines_all.05p.csv\"\n",
    "    target = \"IsDepDelayed\"\n",
    "    drop_cols=['ArrTime','DepTime','ActualElapsedTime','AirTime','ArrDelay',\n",
    "               'DepDelay','TaxiIn', 'TaxiOut', 'Cancelled',\n",
    "               'CancellationCode', 'Diverted', 'CarrierDelay', \n",
    "              'WeatherDelay', 'NASDelay', 'SecurityDelay', 'TailNum',\n",
    "              'LateAircraftDelay', 'IsArrDelayed']\n",
    "    num_round = 25\n",
    "    learn_rate = 0.02\n",
    "    max_depth = 15\n",
    "    num_class = 2\n",
    "\n",
    "    ## Parse data into a Pandas Frame\n",
    "    t_start = time.time()\n",
    "    df = pd.read_csv(path,encoding= \"ISO-8859-1\")\n",
    "    if drop_cols is not None:\n",
    "        df = df.drop(drop_cols, axis=1)\n",
    "    print(\"Time to parse by Pandas (sec): \", time.time() - t_start)\n",
    "\n",
    "    df_target = df[target].replace(('YES', 'NO'), (1, 0))\n",
    "    df = df.drop(target, axis=1)\n",
    "    cols = df.columns.values\n",
    "    df.shape\n",
    "\n",
    "    from sklearn import preprocessing\n",
    "    catcols = df.select_dtypes(include=['object'])\n",
    "    cc = [x for x in list(catcols.columns)]\n",
    "    for f in cc:\n",
    "        df[f] = preprocessing.LabelEncoder().fit_transform(list(df[f].values))"
   ]
  },
  {
   "cell_type": "code",
   "execution_count": 6,
   "metadata": {},
   "outputs": [
    {
     "data": {
      "text/plain": [
       "(5834763, 12)"
      ]
     },
     "execution_count": 6,
     "metadata": {},
     "output_type": "execute_result"
    }
   ],
   "source": [
    "cols = df.columns.values\n",
    "df.shape"
   ]
  },
  {
   "cell_type": "code",
   "execution_count": 7,
   "metadata": {
    "collapsed": true
   },
   "outputs": [],
   "source": [
    "train = df"
   ]
  },
  {
   "cell_type": "code",
   "execution_count": 8,
   "metadata": {
    "collapsed": true
   },
   "outputs": [],
   "source": [
    "train_target = df_target"
   ]
  },
  {
   "cell_type": "code",
   "execution_count": 9,
   "metadata": {},
   "outputs": [
    {
     "name": "stdout",
     "output_type": "stream",
     "text": [
      "(5834763, 12)\n"
     ]
    }
   ],
   "source": [
    "print(train.shape)"
   ]
  },
  {
   "cell_type": "code",
   "execution_count": 10,
   "metadata": {},
   "outputs": [
    {
     "name": "stdout",
     "output_type": "stream",
     "text": [
      "Architecture:          x86_64\r\n",
      "CPU op-mode(s):        32-bit, 64-bit\r\n",
      "Byte Order:            Little Endian\r\n",
      "CPU(s):                80\r\n",
      "On-line CPU(s) list:   0-79\r\n",
      "Thread(s) per core:    2\r\n",
      "Core(s) per socket:    20\r\n",
      "Socket(s):             2\r\n",
      "NUMA node(s):          2\r\n",
      "Vendor ID:             GenuineIntel\r\n",
      "CPU family:            6\r\n",
      "Model:                 79\r\n",
      "Model name:            Intel(R) Xeon(R) CPU E5-2698 v4 @ 2.20GHz\r\n",
      "Stepping:              1\r\n",
      "CPU MHz:               2201.000\r\n",
      "CPU max MHz:           2201.0000\r\n",
      "CPU min MHz:           1200.0000\r\n",
      "BogoMIPS:              4391.41\r\n",
      "Virtualization:        VT-x\r\n",
      "L1d cache:             32K\r\n",
      "L1i cache:             32K\r\n",
      "L2 cache:              256K\r\n",
      "L3 cache:              51200K\r\n",
      "NUMA node0 CPU(s):     0-19,40-59\r\n",
      "NUMA node1 CPU(s):     20-39,60-79\r\n",
      "Flags:                 fpu vme de pse tsc msr pae mce cx8 apic sep mtrr pge mca cmov pat pse36 clflush dts acpi mmx fxsr sse sse2 ss ht tm pbe syscall nx pdpe1gb rdtscp lm constant_tsc arch_perfmon pebs bts rep_good nopl xtopology nonstop_tsc aperfmperf eagerfpu pni pclmulqdq dtes64 monitor ds_cpl vmx smx est tm2 ssse3 sdbg fma cx16 xtpr pdcm pcid dca sse4_1 sse4_2 x2apic movbe popcnt tsc_deadline_timer aes xsave avx f16c rdrand lahf_lm abm 3dnowprefetch epb intel_pt tpr_shadow vnmi flexpriority ept vpid fsgsbase tsc_adjust bmi1 hle avx2 smep bmi2 erms invpcid rtm cqm rdseed adx smap xsaveopt cqm_llc cqm_occup_llc cqm_mbm_total cqm_mbm_local dtherm ida arat pln pts\r\n"
     ]
    }
   ],
   "source": [
    "!lscpu"
   ]
  },
  {
   "cell_type": "code",
   "execution_count": 11,
   "metadata": {
    "scrolled": true
   },
   "outputs": [
    {
     "name": "stdout",
     "output_type": "stream",
     "text": [
      "MemTotal:       528278376 kB\r\n"
     ]
    }
   ],
   "source": [
    "!cat /proc/meminfo | grep MemTotal"
   ]
  },
  {
   "cell_type": "code",
   "execution_count": 12,
   "metadata": {},
   "outputs": [
    {
     "name": "stdout",
     "output_type": "stream",
     "text": [
      "GPU 0: Tesla P100-SXM2-16GB (UUID: GPU-77864ed9-e817-3463-e5be-bf4c4c563a4c)\r\n",
      "GPU 1: Tesla P100-SXM2-16GB (UUID: GPU-e8ece262-f677-038f-5b40-6cc86f978487)\r\n",
      "GPU 2: Tesla P100-SXM2-16GB (UUID: GPU-7d996bf3-876b-1439-e447-ec8fb235fd98)\r\n",
      "GPU 3: Tesla P100-SXM2-16GB (UUID: GPU-151287c0-bb97-6f82-fedb-a88273ee5447)\r\n",
      "GPU 4: Tesla P100-SXM2-16GB (UUID: GPU-99c5cdb5-54b9-ccd2-eb51-a32850d37ebf)\r\n",
      "GPU 5: Tesla P100-SXM2-16GB (UUID: GPU-d2d22332-f462-061e-606a-3d6a5ea89848)\r\n",
      "GPU 6: Tesla P100-SXM2-16GB (UUID: GPU-5cc8b757-ee04-3bbb-5866-1f9f8c404a54)\r\n",
      "GPU 7: Tesla P100-SXM2-16GB (UUID: GPU-3016922d-1da7-46cd-17f3-cb6b3ab17bc3)\r\n"
     ]
    }
   ],
   "source": [
    "!nvidia-smi -L"
   ]
  },
  {
   "cell_type": "code",
   "execution_count": 13,
   "metadata": {
    "collapsed": true
   },
   "outputs": [],
   "source": [
    "def runXGBoost(param):\n",
    "    have_updater = \"updater\" in param.keys()\n",
    "    label = \"XGBoost \" \\\n",
    "        + (\"GPU hist\" if have_updater and param[\"updater\"]==\"grow_gpu_hist\" else \"GPU exact\" if have_updater and param[\"updater\"]==\"grow_gpu\" else \"CPU\") \\\n",
    "        + \" \" + (param[\"tree_method\"] if \"updater\" not in param.keys() else \"\")\n",
    "    print(label)\n",
    "    print(\"=====================\")\n",
    "    for k, v in param.items():\n",
    "        print(k, v)\n",
    "    print(\"=====================\")\n",
    "    \n",
    "    t_start = time.time()\n",
    "    dtrain = xgb.DMatrix(train.values, label = train_target.values, feature_names=[str(c) for c in cols])\n",
    "    tt = time.time() - t_start\n",
    "    print(\"Time to create DMatrix (sec): \", tt)\n",
    "    dmatrix_times.append(tt)\n",
    "    \n",
    "    t_start = time.time()\n",
    "    bst = xgb.train(param, dtrain, num_round)\n",
    "    tt = time.time() - t_start\n",
    "    print(\"Time to train (sec): \", tt)\n",
    "    train_times.append(tt)\n",
    "\n",
    "    t_start = time.time()\n",
    "    preds = bst.predict(dtrain)\n",
    "    tt = time.time() - t_start\n",
    "    print(\"Time to predict (sec): \", tt)\n",
    "    score_times.append(tt)\n",
    "\n",
    "    labels = dtrain.get_label()\n",
    "    auc = metrics.roc_auc_score(labels, preds)\n",
    "    print(\"AUC:\", auc)\n",
    "    valid_aucs.append(auc)\n",
    "    plot_labels.append(label)\n",
    "    \n",
    "    fs = bst.get_fscore()\n",
    "    \n",
    "    # Optional: Uncomment to show variable importance\n",
    "    #varimp = pd.DataFrame({'Importance': list(fs.values()), 'Feature': list(fs.keys())})\n",
    "    #varimp.sort_values(by = 'Importance', inplace = True, ascending = False)\n",
    "    #varimp.head(10).plot(label='importance',kind=\"barh\",x=\"Feature\",y=\"Importance\").invert_yaxis()"
   ]
  },
  {
   "cell_type": "code",
   "execution_count": 14,
   "metadata": {
    "collapsed": true
   },
   "outputs": [],
   "source": [
    "valid_aucs = []\n",
    "dmatrix_times = []\n",
    "train_times = []\n",
    "score_times = []\n",
    "plot_labels = []"
   ]
  },
  {
   "cell_type": "code",
   "execution_count": 15,
   "metadata": {
    "scrolled": false
   },
   "outputs": [
    {
     "name": "stdout",
     "output_type": "stream",
     "text": [
      "XGBoost CPU exact\n",
      "=====================\n",
      "objective reg:logistic\n",
      "max_depth 15\n",
      "eta 0.02\n",
      "tree_method exact\n",
      "subsample 0.7\n",
      "colsample_bytree 0.9\n",
      "min_child_weight 5\n",
      "seed 12345\n",
      "=====================\n",
      "Time to create DMatrix (sec):  2.9863460063934326\n",
      "Time to train (sec):  127.4840350151062\n",
      "Time to predict (sec):  0.020734548568725586\n",
      "AUC: 0.738702340774\n"
     ]
    }
   ],
   "source": [
    "param = {\n",
    "    \"objective\":('reg:logistic' if num_class>1 else 'reg:linear')\n",
    "    , \"max_depth\":max_depth\n",
    "    , \"eta\":learn_rate\n",
    "    , \"tree_method\":\"exact\"\n",
    "    , \"subsample\":0.7\n",
    "    , \"colsample_bytree\":0.9\n",
    "    , \"min_child_weight\":5\n",
    "    , \"seed\":12345\n",
    "}\n",
    "runXGBoost(param)"
   ]
  },
  {
   "cell_type": "code",
   "execution_count": 16,
   "metadata": {
    "scrolled": true
   },
   "outputs": [
    {
     "name": "stdout",
     "output_type": "stream",
     "text": [
      "XGBoost CPU approx\n",
      "=====================\n",
      "objective reg:logistic\n",
      "max_depth 15\n",
      "eta 0.02\n",
      "tree_method approx\n",
      "subsample 0.7\n",
      "colsample_bytree 0.9\n",
      "min_child_weight 5\n",
      "seed 12345\n",
      "=====================\n",
      "Time to create DMatrix (sec):  2.5506792068481445\n",
      "Time to train (sec):  87.08646893501282\n",
      "Time to predict (sec):  0.011215686798095703\n",
      "AUC: 0.737364781198\n"
     ]
    }
   ],
   "source": [
    "param = {\n",
    "    \"objective\":('reg:logistic' if num_class>1 else 'reg:linear')\n",
    "    , \"max_depth\":max_depth\n",
    "    , \"eta\":learn_rate\n",
    "    , \"tree_method\":\"approx\"\n",
    "    , \"subsample\":0.7\n",
    "    , \"colsample_bytree\":0.9\n",
    "    , \"min_child_weight\":5\n",
    "    , \"seed\":12345\n",
    "}\n",
    "runXGBoost(param)"
   ]
  },
  {
   "cell_type": "code",
   "execution_count": 17,
   "metadata": {},
   "outputs": [
    {
     "name": "stdout",
     "output_type": "stream",
     "text": [
      "XGBoost CPU hist\n",
      "=====================\n",
      "objective reg:logistic\n",
      "max_depth 15\n",
      "eta 0.02\n",
      "tree_method hist\n",
      "subsample 0.7\n",
      "colsample_bytree 0.9\n",
      "min_child_weight 5\n",
      "seed 12345\n",
      "=====================\n",
      "Time to create DMatrix (sec):  2.6282689571380615\n",
      "Time to train (sec):  102.60457062721252\n",
      "Time to predict (sec):  0.011019229888916016\n",
      "AUC: 0.737553611551\n"
     ]
    }
   ],
   "source": [
    "param = {\n",
    "    \"objective\":('reg:logistic' if num_class>1 else 'reg:linear')\n",
    "    , \"max_depth\":max_depth\n",
    "    , \"eta\":learn_rate\n",
    "    , \"tree_method\":\"hist\"\n",
    "    , \"subsample\":0.7\n",
    "    , \"colsample_bytree\":0.9\n",
    "    , \"min_child_weight\":5\n",
    "    , \"seed\":12345\n",
    "}\n",
    "runXGBoost(param)"
   ]
  },
  {
   "cell_type": "code",
   "execution_count": 18,
   "metadata": {
    "scrolled": true
   },
   "outputs": [
    {
     "name": "stdout",
     "output_type": "stream",
     "text": [
      "XGBoost GPU exact \n",
      "=====================\n",
      "objective reg:logistic\n",
      "max_depth 15\n",
      "eta 0.02\n",
      "tree_method exact\n",
      "updater grow_gpu\n",
      "subsample 0.7\n",
      "colsample_bytree 0.9\n",
      "min_child_weight 5\n",
      "seed 12345\n",
      "=====================\n",
      "Time to create DMatrix (sec):  2.393775463104248\n",
      "Time to train (sec):  67.64239549636841\n",
      "Time to predict (sec):  0.0107879638671875\n",
      "AUC: 0.733457187905\n"
     ]
    }
   ],
   "source": [
    "param = {\n",
    "    \"objective\":('reg:logistic' if num_class>1 else 'reg:linear')\n",
    "    , \"max_depth\":max_depth\n",
    "    , \"eta\":learn_rate\n",
    "    , \"tree_method\":\"exact\"\n",
    "    , \"updater\":\"grow_gpu\"\n",
    "    , \"subsample\":0.7\n",
    "    , \"colsample_bytree\":0.9\n",
    "    , \"min_child_weight\":5\n",
    "    , \"seed\":12345\n",
    "}\n",
    "runXGBoost(param)"
   ]
  },
  {
   "cell_type": "code",
   "execution_count": 22,
   "metadata": {
    "scrolled": false
   },
   "outputs": [
    {
     "name": "stdout",
     "output_type": "stream",
     "text": [
      "XGBoost GPU hist \n",
      "=====================\n",
      "objective reg:logistic\n",
      "max_depth 15\n",
      "eta 0.02\n",
      "tree_method exact\n",
      "updater grow_gpu_hist\n",
      "subsample 0.7\n",
      "colsample_bytree 0.9\n",
      "min_child_weight 5\n",
      "seed 12345\n",
      "=====================\n",
      "Time to create DMatrix (sec):  2.683131456375122\n",
      "Time to train (sec):  3.5714199542999268\n",
      "Time to predict (sec):  0.016834735870361328\n"
     ]
    },
    {
     "ename": "ValueError",
     "evalue": "Input contains NaN, infinity or a value too large for dtype('float32').",
     "output_type": "error",
     "traceback": [
      "\u001b[0;31m---------------------------------------------------------------------------\u001b[0m",
      "\u001b[0;31mValueError\u001b[0m                                Traceback (most recent call last)",
      "\u001b[0;32m<ipython-input-22-a17e8a221528>\u001b[0m in \u001b[0;36m<module>\u001b[0;34m()\u001b[0m\n\u001b[1;32m     10\u001b[0m     \u001b[0;34m,\u001b[0m \u001b[0;34m\"seed\"\u001b[0m\u001b[0;34m:\u001b[0m\u001b[0;36m12345\u001b[0m\u001b[0;34m\u001b[0m\u001b[0m\n\u001b[1;32m     11\u001b[0m }\n\u001b[0;32m---> 12\u001b[0;31m \u001b[0mrunXGBoost\u001b[0m\u001b[0;34m(\u001b[0m\u001b[0mparam\u001b[0m\u001b[0;34m)\u001b[0m\u001b[0;34m\u001b[0m\u001b[0m\n\u001b[0m",
      "\u001b[0;32m<ipython-input-13-11db65a968e1>\u001b[0m in \u001b[0;36mrunXGBoost\u001b[0;34m(param)\u001b[0m\n\u001b[1;32m     27\u001b[0m \u001b[0;34m\u001b[0m\u001b[0m\n\u001b[1;32m     28\u001b[0m     \u001b[0mlabels\u001b[0m \u001b[0;34m=\u001b[0m \u001b[0mdtrain\u001b[0m\u001b[0;34m.\u001b[0m\u001b[0mget_label\u001b[0m\u001b[0;34m(\u001b[0m\u001b[0;34m)\u001b[0m\u001b[0;34m\u001b[0m\u001b[0m\n\u001b[0;32m---> 29\u001b[0;31m     \u001b[0mauc\u001b[0m \u001b[0;34m=\u001b[0m \u001b[0mmetrics\u001b[0m\u001b[0;34m.\u001b[0m\u001b[0mroc_auc_score\u001b[0m\u001b[0;34m(\u001b[0m\u001b[0mlabels\u001b[0m\u001b[0;34m,\u001b[0m \u001b[0mpreds\u001b[0m\u001b[0;34m)\u001b[0m\u001b[0;34m\u001b[0m\u001b[0m\n\u001b[0m\u001b[1;32m     30\u001b[0m     \u001b[0mprint\u001b[0m\u001b[0;34m(\u001b[0m\u001b[0;34m\"AUC:\"\u001b[0m\u001b[0;34m,\u001b[0m \u001b[0mauc\u001b[0m\u001b[0;34m)\u001b[0m\u001b[0;34m\u001b[0m\u001b[0m\n\u001b[1;32m     31\u001b[0m     \u001b[0mvalid_aucs\u001b[0m\u001b[0;34m.\u001b[0m\u001b[0mappend\u001b[0m\u001b[0;34m(\u001b[0m\u001b[0mauc\u001b[0m\u001b[0;34m)\u001b[0m\u001b[0;34m\u001b[0m\u001b[0m\n",
      "\u001b[0;32m/usr/local/lib/python3.6/dist-packages/sklearn/metrics/ranking.py\u001b[0m in \u001b[0;36mroc_auc_score\u001b[0;34m(y_true, y_score, average, sample_weight)\u001b[0m\n\u001b[1;32m    258\u001b[0m     return _average_binary_score(\n\u001b[1;32m    259\u001b[0m         \u001b[0m_binary_roc_auc_score\u001b[0m\u001b[0;34m,\u001b[0m \u001b[0my_true\u001b[0m\u001b[0;34m,\u001b[0m \u001b[0my_score\u001b[0m\u001b[0;34m,\u001b[0m \u001b[0maverage\u001b[0m\u001b[0;34m,\u001b[0m\u001b[0;34m\u001b[0m\u001b[0m\n\u001b[0;32m--> 260\u001b[0;31m         sample_weight=sample_weight)\n\u001b[0m\u001b[1;32m    261\u001b[0m \u001b[0;34m\u001b[0m\u001b[0m\n\u001b[1;32m    262\u001b[0m \u001b[0;34m\u001b[0m\u001b[0m\n",
      "\u001b[0;32m/usr/local/lib/python3.6/dist-packages/sklearn/metrics/base.py\u001b[0m in \u001b[0;36m_average_binary_score\u001b[0;34m(binary_metric, y_true, y_score, average, sample_weight)\u001b[0m\n\u001b[1;32m     82\u001b[0m \u001b[0;34m\u001b[0m\u001b[0m\n\u001b[1;32m     83\u001b[0m     \u001b[0;32mif\u001b[0m \u001b[0my_type\u001b[0m \u001b[0;34m==\u001b[0m \u001b[0;34m\"binary\"\u001b[0m\u001b[0;34m:\u001b[0m\u001b[0;34m\u001b[0m\u001b[0m\n\u001b[0;32m---> 84\u001b[0;31m         \u001b[0;32mreturn\u001b[0m \u001b[0mbinary_metric\u001b[0m\u001b[0;34m(\u001b[0m\u001b[0my_true\u001b[0m\u001b[0;34m,\u001b[0m \u001b[0my_score\u001b[0m\u001b[0;34m,\u001b[0m \u001b[0msample_weight\u001b[0m\u001b[0;34m=\u001b[0m\u001b[0msample_weight\u001b[0m\u001b[0;34m)\u001b[0m\u001b[0;34m\u001b[0m\u001b[0m\n\u001b[0m\u001b[1;32m     85\u001b[0m \u001b[0;34m\u001b[0m\u001b[0m\n\u001b[1;32m     86\u001b[0m     \u001b[0mcheck_consistent_length\u001b[0m\u001b[0;34m(\u001b[0m\u001b[0my_true\u001b[0m\u001b[0;34m,\u001b[0m \u001b[0my_score\u001b[0m\u001b[0;34m,\u001b[0m \u001b[0msample_weight\u001b[0m\u001b[0;34m)\u001b[0m\u001b[0;34m\u001b[0m\u001b[0m\n",
      "\u001b[0;32m/usr/local/lib/python3.6/dist-packages/sklearn/metrics/ranking.py\u001b[0m in \u001b[0;36m_binary_roc_auc_score\u001b[0;34m(y_true, y_score, sample_weight)\u001b[0m\n\u001b[1;32m    253\u001b[0m \u001b[0;34m\u001b[0m\u001b[0m\n\u001b[1;32m    254\u001b[0m         fpr, tpr, tresholds = roc_curve(y_true, y_score,\n\u001b[0;32m--> 255\u001b[0;31m                                         sample_weight=sample_weight)\n\u001b[0m\u001b[1;32m    256\u001b[0m         \u001b[0;32mreturn\u001b[0m \u001b[0mauc\u001b[0m\u001b[0;34m(\u001b[0m\u001b[0mfpr\u001b[0m\u001b[0;34m,\u001b[0m \u001b[0mtpr\u001b[0m\u001b[0;34m,\u001b[0m \u001b[0mreorder\u001b[0m\u001b[0;34m=\u001b[0m\u001b[0;32mTrue\u001b[0m\u001b[0;34m)\u001b[0m\u001b[0;34m\u001b[0m\u001b[0m\n\u001b[1;32m    257\u001b[0m \u001b[0;34m\u001b[0m\u001b[0m\n",
      "\u001b[0;32m/usr/local/lib/python3.6/dist-packages/sklearn/metrics/ranking.py\u001b[0m in \u001b[0;36mroc_curve\u001b[0;34m(y_true, y_score, pos_label, sample_weight, drop_intermediate)\u001b[0m\n\u001b[1;32m    503\u001b[0m     \"\"\"\n\u001b[1;32m    504\u001b[0m     fps, tps, thresholds = _binary_clf_curve(\n\u001b[0;32m--> 505\u001b[0;31m         y_true, y_score, pos_label=pos_label, sample_weight=sample_weight)\n\u001b[0m\u001b[1;32m    506\u001b[0m \u001b[0;34m\u001b[0m\u001b[0m\n\u001b[1;32m    507\u001b[0m     \u001b[0;31m# Attempt to drop thresholds corresponding to points in between and\u001b[0m\u001b[0;34m\u001b[0m\u001b[0;34m\u001b[0m\u001b[0m\n",
      "\u001b[0;32m/usr/local/lib/python3.6/dist-packages/sklearn/metrics/ranking.py\u001b[0m in \u001b[0;36m_binary_clf_curve\u001b[0;34m(y_true, y_score, pos_label, sample_weight)\u001b[0m\n\u001b[1;32m    299\u001b[0m     \u001b[0my_score\u001b[0m \u001b[0;34m=\u001b[0m \u001b[0mcolumn_or_1d\u001b[0m\u001b[0;34m(\u001b[0m\u001b[0my_score\u001b[0m\u001b[0;34m)\u001b[0m\u001b[0;34m\u001b[0m\u001b[0m\n\u001b[1;32m    300\u001b[0m     \u001b[0massert_all_finite\u001b[0m\u001b[0;34m(\u001b[0m\u001b[0my_true\u001b[0m\u001b[0;34m)\u001b[0m\u001b[0;34m\u001b[0m\u001b[0m\n\u001b[0;32m--> 301\u001b[0;31m     \u001b[0massert_all_finite\u001b[0m\u001b[0;34m(\u001b[0m\u001b[0my_score\u001b[0m\u001b[0;34m)\u001b[0m\u001b[0;34m\u001b[0m\u001b[0m\n\u001b[0m\u001b[1;32m    302\u001b[0m \u001b[0;34m\u001b[0m\u001b[0m\n\u001b[1;32m    303\u001b[0m     \u001b[0;32mif\u001b[0m \u001b[0msample_weight\u001b[0m \u001b[0;32mis\u001b[0m \u001b[0;32mnot\u001b[0m \u001b[0;32mNone\u001b[0m\u001b[0;34m:\u001b[0m\u001b[0;34m\u001b[0m\u001b[0m\n",
      "\u001b[0;32m/usr/local/lib/python3.6/dist-packages/sklearn/utils/validation.py\u001b[0m in \u001b[0;36massert_all_finite\u001b[0;34m(X)\u001b[0m\n\u001b[1;32m     63\u001b[0m \u001b[0;34m\u001b[0m\u001b[0m\n\u001b[1;32m     64\u001b[0m     Input MUST be an np.ndarray instance or a scipy.sparse matrix.\"\"\"\n\u001b[0;32m---> 65\u001b[0;31m     \u001b[0m_assert_all_finite\u001b[0m\u001b[0;34m(\u001b[0m\u001b[0mX\u001b[0m\u001b[0;34m.\u001b[0m\u001b[0mdata\u001b[0m \u001b[0;32mif\u001b[0m \u001b[0msp\u001b[0m\u001b[0;34m.\u001b[0m\u001b[0missparse\u001b[0m\u001b[0;34m(\u001b[0m\u001b[0mX\u001b[0m\u001b[0;34m)\u001b[0m \u001b[0;32melse\u001b[0m \u001b[0mX\u001b[0m\u001b[0;34m)\u001b[0m\u001b[0;34m\u001b[0m\u001b[0m\n\u001b[0m\u001b[1;32m     66\u001b[0m \u001b[0;34m\u001b[0m\u001b[0m\n\u001b[1;32m     67\u001b[0m \u001b[0;34m\u001b[0m\u001b[0m\n",
      "\u001b[0;32m/usr/local/lib/python3.6/dist-packages/sklearn/utils/validation.py\u001b[0m in \u001b[0;36m_assert_all_finite\u001b[0;34m(X)\u001b[0m\n\u001b[1;32m     56\u001b[0m             and not np.isfinite(X).all()):\n\u001b[1;32m     57\u001b[0m         raise ValueError(\"Input contains NaN, infinity\"\n\u001b[0;32m---> 58\u001b[0;31m                          \" or a value too large for %r.\" % X.dtype)\n\u001b[0m\u001b[1;32m     59\u001b[0m \u001b[0;34m\u001b[0m\u001b[0m\n\u001b[1;32m     60\u001b[0m \u001b[0;34m\u001b[0m\u001b[0m\n",
      "\u001b[0;31mValueError\u001b[0m: Input contains NaN, infinity or a value too large for dtype('float32')."
     ]
    }
   ],
   "source": [
    "param = {\n",
    "    \"objective\":('reg:logistic' if num_class>1 else 'reg:linear')\n",
    "    , \"max_depth\":15\n",
    "    , \"eta\":learn_rate\n",
    "    , \"tree_method\":\"exact\"\n",
    "    , \"updater\":\"grow_gpu_hist\"\n",
    "    , \"subsample\":0.7\n",
    "    , \"colsample_bytree\":0.9\n",
    "    , \"min_child_weight\":5\n",
    "    , \"seed\":12345\n",
    "}\n",
    "runXGBoost(param)"
   ]
  },
  {
   "cell_type": "code",
   "execution_count": null,
   "metadata": {
    "collapsed": true,
    "scrolled": false
   },
   "outputs": [],
   "source": [
    "data = pd.DataFrame({'algorithm'  :plot_labels,\n",
    "                     'dmatrix time':dmatrix_times,\n",
    "                     'training time':train_times,\n",
    "                     'scoring time':score_times,\n",
    "                     'validation AUC' :valid_aucs}).sort_values(by=\"training time\")\n",
    "data"
   ]
  },
  {
   "cell_type": "code",
   "execution_count": null,
   "metadata": {
    "collapsed": true
   },
   "outputs": [],
   "source": [
    "data.plot(label=\"training time\",kind='barh',x='algorithm',y='training time')\n",
    "data.plot(title=\"validation AUC\",kind='barh',x='algorithm',y='validation AUC',legend=False)\n",
    "data.plot(label=\"dmatrix time\",kind='barh',x='algorithm',y='dmatrix time')"
   ]
  }
 ],
 "metadata": {
  "anaconda-cloud": {},
  "kernelspec": {
   "display_name": "Python 3",
   "language": "python",
   "name": "python3"
  },
  "language_info": {
   "codemirror_mode": {
    "name": "ipython",
    "version": 3
   },
   "file_extension": ".py",
   "mimetype": "text/x-python",
   "name": "python",
   "nbconvert_exporter": "python",
   "pygments_lexer": "ipython3",
   "version": "3.6.1"
  }
 },
 "nbformat": 4,
 "nbformat_minor": 2
}

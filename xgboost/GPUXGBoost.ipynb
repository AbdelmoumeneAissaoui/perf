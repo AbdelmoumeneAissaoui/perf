{
 "cells": [
  {
   "cell_type": "markdown",
   "metadata": {},
   "source": [
    "# XGBoost GPU Benchmarks"
   ]
  },
  {
   "cell_type": "markdown",
   "metadata": {},
   "source": [
    "In this notebook, we benchmark the latest version of [XGBoost](https://github.com/dmlc/xgboost), the well-known Kaggle-winning gradient boosting algorithm, and in particular, the [XGBoost GPU plugin](https://github.com/dmlc/xgboost/blob/master/plugin/updater_gpu/README.md)."
   ]
  },
  {
   "cell_type": "code",
   "execution_count": 1,
   "metadata": {
    "collapsed": true
   },
   "outputs": [],
   "source": [
    "## For comparison between 1 GPU and 1 CPU, we use only 1 CPU:\n",
    "#numactl --physcpubind=0 -C 0 --cpunodebind=0 -N 0 -m 0 jupyter notebook"
   ]
  },
  {
   "cell_type": "code",
   "execution_count": 2,
   "metadata": {},
   "outputs": [],
   "source": [
    "# First time only: install xgboost, and restart the kernel afterwards\n",
    "#import os\n",
    "#os.system(\"git clone https://github.com/dmlc/xgboost --recursive && cd xgboost && mkdir build && cd build && cmake .. -DPLUGIN_UPDATER_GPU=ON && make -j; make; cd ../python-package && sudo python3.6 setup.py install\")"
   ]
  },
  {
   "cell_type": "code",
   "execution_count": 3,
   "metadata": {
    "collapsed": true
   },
   "outputs": [],
   "source": [
    "%matplotlib inline\n",
    "import xgboost as xgb\n",
    "import pandas as pd\n",
    "import numpy as np\n",
    "import scipy as sp\n",
    "import os\n",
    "import time\n",
    "from sklearn import metrics"
   ]
  },
  {
   "cell_type": "code",
   "execution_count": 4,
   "metadata": {
    "collapsed": true
   },
   "outputs": [],
   "source": [
    "#https://s3.amazonaws.com/h2o-public-test-data/bigdata/laptop/higgs_head_2M.csv\n",
    "path = \"/opt/higgs_head_2M.csv\"\n",
    "num_class = 2\n",
    "num_round = 200\n",
    "learn_rate = 0.02\n",
    "max_depth = 6\n",
    "\n",
    "## Parse data into a Pandas Frame\n",
    "df = pd.read_csv(path, header=None)"
   ]
  },
  {
   "cell_type": "code",
   "execution_count": 5,
   "metadata": {},
   "outputs": [
    {
     "data": {
      "text/plain": [
       "(2000000, 27)"
      ]
     },
     "execution_count": 5,
     "metadata": {},
     "output_type": "execute_result"
    }
   ],
   "source": [
    "df_target = df.iloc[:,0]\n",
    "df.drop(df.iloc[:,0], axis=1, inplace=True)\n",
    "cols = df.columns.values\n",
    "df.shape"
   ]
  },
  {
   "cell_type": "code",
   "execution_count": 6,
   "metadata": {
    "collapsed": true
   },
   "outputs": [],
   "source": [
    "trainrows=1800000\n",
    "train = df.iloc[:trainrows,:]\n",
    "test  = df.iloc[trainrows:,:]"
   ]
  },
  {
   "cell_type": "code",
   "execution_count": 7,
   "metadata": {
    "collapsed": true
   },
   "outputs": [],
   "source": [
    "train_target = df_target.iloc[:trainrows]\n",
    "test_target  = df_target.iloc[trainrows:]"
   ]
  },
  {
   "cell_type": "code",
   "execution_count": 8,
   "metadata": {},
   "outputs": [
    {
     "name": "stdout",
     "output_type": "stream",
     "text": [
      "(1800000, 27)\n",
      "(200000, 27)\n"
     ]
    }
   ],
   "source": [
    "print(train.shape)\n",
    "print(test.shape)"
   ]
  },
  {
   "cell_type": "code",
   "execution_count": 9,
   "metadata": {},
   "outputs": [
    {
     "name": "stdout",
     "output_type": "stream",
     "text": [
      "Architecture:          x86_64\r\n",
      "CPU op-mode(s):        32-bit, 64-bit\r\n",
      "Byte Order:            Little Endian\r\n",
      "CPU(s):                80\r\n",
      "On-line CPU(s) list:   0-79\r\n",
      "Thread(s) per core:    2\r\n",
      "Core(s) per socket:    20\r\n",
      "Socket(s):             2\r\n",
      "NUMA node(s):          2\r\n",
      "Vendor ID:             GenuineIntel\r\n",
      "CPU family:            6\r\n",
      "Model:                 79\r\n",
      "Model name:            Intel(R) Xeon(R) CPU E5-2698 v4 @ 2.20GHz\r\n",
      "Stepping:              1\r\n",
      "CPU MHz:               2201.000\r\n",
      "CPU max MHz:           2201.0000\r\n",
      "CPU min MHz:           1200.0000\r\n",
      "BogoMIPS:              4391.41\r\n",
      "Virtualization:        VT-x\r\n",
      "L1d cache:             32K\r\n",
      "L1i cache:             32K\r\n",
      "L2 cache:              256K\r\n",
      "L3 cache:              51200K\r\n",
      "NUMA node0 CPU(s):     0-19,40-59\r\n",
      "NUMA node1 CPU(s):     20-39,60-79\r\n",
      "Flags:                 fpu vme de pse tsc msr pae mce cx8 apic sep mtrr pge mca cmov pat pse36 clflush dts acpi mmx fxsr sse sse2 ss ht tm pbe syscall nx pdpe1gb rdtscp lm constant_tsc arch_perfmon pebs bts rep_good nopl xtopology nonstop_tsc aperfmperf eagerfpu pni pclmulqdq dtes64 monitor ds_cpl vmx smx est tm2 ssse3 sdbg fma cx16 xtpr pdcm pcid dca sse4_1 sse4_2 x2apic movbe popcnt tsc_deadline_timer aes xsave avx f16c rdrand lahf_lm abm 3dnowprefetch epb intel_pt tpr_shadow vnmi flexpriority ept vpid fsgsbase tsc_adjust bmi1 hle avx2 smep bmi2 erms invpcid rtm cqm rdseed adx smap xsaveopt cqm_llc cqm_occup_llc cqm_mbm_total cqm_mbm_local dtherm ida arat pln pts\r\n"
     ]
    }
   ],
   "source": [
    "!lscpu"
   ]
  },
  {
   "cell_type": "code",
   "execution_count": 10,
   "metadata": {
    "scrolled": true
   },
   "outputs": [
    {
     "name": "stdout",
     "output_type": "stream",
     "text": [
      "MemTotal:       528278376 kB\r\n"
     ]
    }
   ],
   "source": [
    "!cat /proc/meminfo | grep MemTotal"
   ]
  },
  {
   "cell_type": "code",
   "execution_count": 11,
   "metadata": {},
   "outputs": [
    {
     "name": "stdout",
     "output_type": "stream",
     "text": [
      "GPU 0: Tesla P100-SXM2-16GB (UUID: GPU-77864ed9-e817-3463-e5be-bf4c4c563a4c)\r\n",
      "GPU 1: Tesla P100-SXM2-16GB (UUID: GPU-e8ece262-f677-038f-5b40-6cc86f978487)\r\n",
      "GPU 2: Tesla P100-SXM2-16GB (UUID: GPU-7d996bf3-876b-1439-e447-ec8fb235fd98)\r\n",
      "GPU 3: Tesla P100-SXM2-16GB (UUID: GPU-151287c0-bb97-6f82-fedb-a88273ee5447)\r\n",
      "GPU 4: Tesla P100-SXM2-16GB (UUID: GPU-99c5cdb5-54b9-ccd2-eb51-a32850d37ebf)\r\n",
      "GPU 5: Tesla P100-SXM2-16GB (UUID: GPU-d2d22332-f462-061e-606a-3d6a5ea89848)\r\n",
      "GPU 6: Tesla P100-SXM2-16GB (UUID: GPU-5cc8b757-ee04-3bbb-5866-1f9f8c404a54)\r\n",
      "GPU 7: Tesla P100-SXM2-16GB (UUID: GPU-3016922d-1da7-46cd-17f3-cb6b3ab17bc3)\r\n"
     ]
    }
   ],
   "source": [
    "!nvidia-smi -L"
   ]
  },
  {
   "cell_type": "code",
   "execution_count": 12,
   "metadata": {
    "collapsed": true
   },
   "outputs": [],
   "source": [
    "def runXGBoost(param):\n",
    "    have_updater = \"updater\" in param.keys()\n",
    "    label = \"XGBoost \" \\\n",
    "        + (\"GPU hist\" if have_updater and param[\"updater\"]==\"grow_gpu_hist\" else \"GPU exact\" if have_updater and param[\"updater\"]==\"grow_gpu\" else \"CPU\") \\\n",
    "        + \" \" + (param[\"tree_method\"] if \"updater\" not in param.keys() else \"\")\n",
    "    print(label)\n",
    "    print(\"=====================\")\n",
    "    for k, v in param.items():\n",
    "        print(k, v)\n",
    "    print(\"=====================\")\n",
    "    \n",
    "    t_start = time.time()\n",
    "    dtrain = xgb.DMatrix(train.values, label = train_target.values, feature_names=[str(c) for c in cols])\n",
    "    dtest  = xgb.DMatrix(test.values,  label = test_target.values,  feature_names=[str(c) for c in cols])\n",
    "    tt = time.time() - t_start\n",
    "    print(\"Time to create DMatrix (sec): \", tt)\n",
    "    dmatrix_times.append(tt)\n",
    "    \n",
    "    t_start = time.time()\n",
    "    bst = xgb.train(param, dtrain, num_round)\n",
    "    tt = time.time() - t_start\n",
    "    print(\"Time to train (sec): \", tt)\n",
    "    train_times.append(tt)\n",
    "\n",
    "    t_start = time.time()\n",
    "    preds = bst.predict(dtest)\n",
    "    tt = time.time() - t_start\n",
    "    print(\"Time to predict (sec): \", tt)\n",
    "    score_times.append(tt)\n",
    "\n",
    "    labels = dtest.get_label()\n",
    "    auc = metrics.roc_auc_score(labels, preds)\n",
    "    print(\"AUC:\", auc)\n",
    "    valid_aucs.append(auc)\n",
    "    plot_labels.append(label)\n",
    "    \n",
    "    fs = bst.get_fscore()\n",
    "    \n",
    "    # Optional: Uncomment to show variable importance\n",
    "    #varimp = pd.DataFrame({'Importance': list(fs.values()), 'Feature': list(fs.keys())})\n",
    "    #varimp.sort_values(by = 'Importance', inplace = True, ascending = False)\n",
    "    #varimp.head(10).plot(label='importance',kind=\"barh\",x=\"Feature\",y=\"Importance\").invert_yaxis()"
   ]
  },
  {
   "cell_type": "code",
   "execution_count": 13,
   "metadata": {
    "collapsed": true
   },
   "outputs": [],
   "source": [
    "valid_aucs = []\n",
    "dmatrix_times = []\n",
    "train_times = []\n",
    "score_times = []\n",
    "plot_labels = []"
   ]
  },
  {
   "cell_type": "code",
   "execution_count": 14,
   "metadata": {
    "scrolled": false
   },
   "outputs": [
    {
     "name": "stdout",
     "output_type": "stream",
     "text": [
      "XGBoost CPU exact\n",
      "=====================\n",
      "objective reg:logistic\n",
      "max_depth 6\n",
      "eta 0.02\n",
      "tree_method exact\n",
      "subsample 0.7\n",
      "colsample_bytree 0.9\n",
      "min_child_weight 5\n",
      "seed 12345\n",
      "=====================\n",
      "Time to create DMatrix (sec):  1.2471144199371338\n",
      "Time to train (sec):  145.7947599887848\n",
      "Time to predict (sec):  0.1270451545715332\n",
      "AUC: 0.79624925501\n"
     ]
    }
   ],
   "source": [
    "param = {\n",
    "    \"objective\":('reg:logistic' if num_class>1 else 'reg:linear')\n",
    "    , \"max_depth\":max_depth\n",
    "    , \"eta\":learn_rate\n",
    "    , \"tree_method\":\"exact\"\n",
    "    , \"subsample\":0.7\n",
    "    , \"colsample_bytree\":0.9\n",
    "    , \"min_child_weight\":5\n",
    "    , \"seed\":12345\n",
    "}\n",
    "runXGBoost(param)"
   ]
  },
  {
   "cell_type": "code",
   "execution_count": 15,
   "metadata": {
    "scrolled": true
   },
   "outputs": [
    {
     "name": "stdout",
     "output_type": "stream",
     "text": [
      "XGBoost CPU approx\n",
      "=====================\n",
      "objective reg:logistic\n",
      "max_depth 6\n",
      "eta 0.02\n",
      "tree_method approx\n",
      "subsample 0.7\n",
      "colsample_bytree 0.9\n",
      "min_child_weight 5\n",
      "seed 12345\n",
      "=====================\n",
      "Time to create DMatrix (sec):  1.2884833812713623\n",
      "Time to train (sec):  101.63974452018738\n",
      "Time to predict (sec):  0.09785842895507812\n",
      "AUC: 0.796009191367\n"
     ]
    }
   ],
   "source": [
    "param = {\n",
    "    \"objective\":('reg:logistic' if num_class>1 else 'reg:linear')\n",
    "    , \"max_depth\":max_depth\n",
    "    , \"eta\":learn_rate\n",
    "    , \"tree_method\":\"approx\"\n",
    "    , \"subsample\":0.7\n",
    "    , \"colsample_bytree\":0.9\n",
    "    , \"min_child_weight\":5\n",
    "    , \"seed\":12345\n",
    "}\n",
    "runXGBoost(param)"
   ]
  },
  {
   "cell_type": "code",
   "execution_count": 16,
   "metadata": {},
   "outputs": [
    {
     "name": "stdout",
     "output_type": "stream",
     "text": [
      "XGBoost CPU hist\n",
      "=====================\n",
      "objective reg:logistic\n",
      "max_depth 6\n",
      "eta 0.02\n",
      "tree_method hist\n",
      "subsample 0.7\n",
      "colsample_bytree 0.9\n",
      "min_child_weight 5\n",
      "seed 12345\n",
      "=====================\n",
      "Time to create DMatrix (sec):  1.2376792430877686\n",
      "Time to train (sec):  44.490665435791016\n",
      "Time to predict (sec):  0.10020685195922852\n",
      "AUC: 0.796066620042\n"
     ]
    }
   ],
   "source": [
    "param = {\n",
    "    \"objective\":('reg:logistic' if num_class>1 else 'reg:linear')\n",
    "    , \"max_depth\":max_depth\n",
    "    , \"eta\":learn_rate\n",
    "    , \"tree_method\":\"hist\"\n",
    "    , \"subsample\":0.7\n",
    "    , \"colsample_bytree\":0.9\n",
    "    , \"min_child_weight\":5\n",
    "    , \"seed\":12345\n",
    "}\n",
    "runXGBoost(param)"
   ]
  },
  {
   "cell_type": "code",
   "execution_count": 17,
   "metadata": {
    "scrolled": true
   },
   "outputs": [
    {
     "name": "stdout",
     "output_type": "stream",
     "text": [
      "XGBoost GPU exact \n",
      "=====================\n",
      "objective reg:logistic\n",
      "max_depth 6\n",
      "eta 0.02\n",
      "tree_method exact\n",
      "updater grow_gpu\n",
      "subsample 0.7\n",
      "colsample_bytree 0.9\n",
      "min_child_weight 5\n",
      "seed 12345\n",
      "=====================\n",
      "Time to create DMatrix (sec):  1.2057387828826904\n",
      "Time to train (sec):  37.23878312110901\n",
      "Time to predict (sec):  0.12570643424987793\n",
      "AUC: 0.795631530718\n"
     ]
    }
   ],
   "source": [
    "param = {\n",
    "    \"objective\":('reg:logistic' if num_class>1 else 'reg:linear')\n",
    "    , \"max_depth\":max_depth\n",
    "    , \"eta\":learn_rate\n",
    "    , \"tree_method\":\"exact\"\n",
    "    , \"updater\":\"grow_gpu\"\n",
    "    , \"subsample\":0.7\n",
    "    , \"colsample_bytree\":0.9\n",
    "    , \"min_child_weight\":5\n",
    "    , \"seed\":12345\n",
    "}\n",
    "runXGBoost(param)"
   ]
  },
  {
   "cell_type": "code",
   "execution_count": 18,
   "metadata": {
    "scrolled": false
   },
   "outputs": [
    {
     "name": "stdout",
     "output_type": "stream",
     "text": [
      "XGBoost GPU hist \n",
      "=====================\n",
      "objective reg:logistic\n",
      "max_depth 6\n",
      "eta 0.02\n",
      "tree_method exact\n",
      "updater grow_gpu_hist\n",
      "subsample 0.7\n",
      "colsample_bytree 0.9\n",
      "min_child_weight 5\n",
      "seed 12345\n",
      "=====================\n",
      "Time to create DMatrix (sec):  1.228468418121338\n",
      "Time to train (sec):  16.37684464454651\n",
      "Time to predict (sec):  0.10442423820495605\n",
      "AUC: 0.796204315293\n"
     ]
    }
   ],
   "source": [
    "param = {\n",
    "    \"objective\":('reg:logistic' if num_class>1 else 'reg:linear')\n",
    "    , \"max_depth\":max_depth\n",
    "    , \"eta\":learn_rate\n",
    "    , \"tree_method\":\"exact\"\n",
    "    , \"updater\":\"grow_gpu_hist\"\n",
    "    , \"subsample\":0.7\n",
    "    , \"colsample_bytree\":0.9\n",
    "    , \"min_child_weight\":5\n",
    "    , \"seed\":12345\n",
    "}\n",
    "runXGBoost(param)"
   ]
  },
  {
   "cell_type": "code",
   "execution_count": 19,
   "metadata": {
    "scrolled": false
   },
   "outputs": [
    {
     "data": {
      "text/html": [
       "<div>\n",
       "<style>\n",
       "    .dataframe thead tr:only-child th {\n",
       "        text-align: right;\n",
       "    }\n",
       "\n",
       "    .dataframe thead th {\n",
       "        text-align: left;\n",
       "    }\n",
       "\n",
       "    .dataframe tbody tr th {\n",
       "        vertical-align: top;\n",
       "    }\n",
       "</style>\n",
       "<table border=\"1\" class=\"dataframe\">\n",
       "  <thead>\n",
       "    <tr style=\"text-align: right;\">\n",
       "      <th></th>\n",
       "      <th>algorithm</th>\n",
       "      <th>dmatrix time</th>\n",
       "      <th>scoring time</th>\n",
       "      <th>training time</th>\n",
       "      <th>validation AUC</th>\n",
       "    </tr>\n",
       "  </thead>\n",
       "  <tbody>\n",
       "    <tr>\n",
       "      <th>4</th>\n",
       "      <td>XGBoost GPU hist</td>\n",
       "      <td>1.228468</td>\n",
       "      <td>0.104424</td>\n",
       "      <td>16.376845</td>\n",
       "      <td>0.796204</td>\n",
       "    </tr>\n",
       "    <tr>\n",
       "      <th>3</th>\n",
       "      <td>XGBoost GPU exact</td>\n",
       "      <td>1.205739</td>\n",
       "      <td>0.125706</td>\n",
       "      <td>37.238783</td>\n",
       "      <td>0.795632</td>\n",
       "    </tr>\n",
       "    <tr>\n",
       "      <th>2</th>\n",
       "      <td>XGBoost CPU hist</td>\n",
       "      <td>1.237679</td>\n",
       "      <td>0.100207</td>\n",
       "      <td>44.490665</td>\n",
       "      <td>0.796067</td>\n",
       "    </tr>\n",
       "    <tr>\n",
       "      <th>1</th>\n",
       "      <td>XGBoost CPU approx</td>\n",
       "      <td>1.288483</td>\n",
       "      <td>0.097858</td>\n",
       "      <td>101.639745</td>\n",
       "      <td>0.796009</td>\n",
       "    </tr>\n",
       "    <tr>\n",
       "      <th>0</th>\n",
       "      <td>XGBoost CPU exact</td>\n",
       "      <td>1.247114</td>\n",
       "      <td>0.127045</td>\n",
       "      <td>145.794760</td>\n",
       "      <td>0.796249</td>\n",
       "    </tr>\n",
       "  </tbody>\n",
       "</table>\n",
       "</div>"
      ],
      "text/plain": [
       "            algorithm  dmatrix time  scoring time  training time  \\\n",
       "4   XGBoost GPU hist       1.228468      0.104424      16.376845   \n",
       "3  XGBoost GPU exact       1.205739      0.125706      37.238783   \n",
       "2    XGBoost CPU hist      1.237679      0.100207      44.490665   \n",
       "1  XGBoost CPU approx      1.288483      0.097858     101.639745   \n",
       "0   XGBoost CPU exact      1.247114      0.127045     145.794760   \n",
       "\n",
       "   validation AUC  \n",
       "4        0.796204  \n",
       "3        0.795632  \n",
       "2        0.796067  \n",
       "1        0.796009  \n",
       "0        0.796249  "
      ]
     },
     "execution_count": 19,
     "metadata": {},
     "output_type": "execute_result"
    }
   ],
   "source": [
    "data = pd.DataFrame({'algorithm'  :plot_labels,\n",
    "                     'dmatrix time':dmatrix_times,\n",
    "                     'training time':train_times,\n",
    "                     'scoring time':score_times,\n",
    "                     'validation AUC' :valid_aucs}).sort_values(by=\"training time\")\n",
    "data"
   ]
  },
  {
   "cell_type": "code",
   "execution_count": 20,
   "metadata": {},
   "outputs": [
    {
     "data": {
      "text/plain": [
       "<matplotlib.axes._subplots.AxesSubplot at 0x2ab33cb51550>"
      ]
     },
     "execution_count": 20,
     "metadata": {},
     "output_type": "execute_result"
    },
    {
     "data": {
      "image/png": "[encoded data removed]",
      "text/plain": [
       "<matplotlib.figure.Figure at 0x2ab31d661588>"
      ]
     },
     "metadata": {},
     "output_type": "display_data"
    },
    {
     "data": {
      "image/png": "[encoded data removed]",
      "text/plain": [
       "<matplotlib.figure.Figure at 0x2ab26bebaeb8>"
      ]
     },
     "metadata": {},
     "output_type": "display_data"
    },
    {
     "data": {
      "image/png": "[encoded data removed]",
      "text/plain": [
       "<matplotlib.figure.Figure at 0x2ab33cba3be0>"
      ]
     },
     "metadata": {},
     "output_type": "display_data"
    }
   ],
   "source": [
    "data.plot(label=\"training time\",kind='barh',x='algorithm',y='training time')\n",
    "data.plot(title=\"validation AUC\",kind='barh',x='algorithm',y='validation AUC',legend=False)\n",
    "data.plot(label=\"dmatrix time\",kind='barh',x='algorithm',y='dmatrix time')"
   ]
  }
 ],
 "metadata": {
  "anaconda-cloud": {},
  "kernelspec": {
   "display_name": "Python 3",
   "language": "python",
   "name": "python3"
  },
  "language_info": {
   "codemirror_mode": {
    "name": "ipython",
    "version": 3
   },
   "file_extension": ".py",
   "mimetype": "text/x-python",
   "name": "python",
   "nbconvert_exporter": "python",
   "pygments_lexer": "ipython3",
   "version": "3.6.1"
  }
 },
 "nbformat": 4,
 "nbformat_minor": 2
}

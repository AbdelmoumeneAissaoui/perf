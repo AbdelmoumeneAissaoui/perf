{
 "cells": [
  {
   "cell_type": "markdown",
   "metadata": {},
   "source": [
    "# XGBoost GPU Benchmarks"
   ]
  },
  {
   "cell_type": "markdown",
   "metadata": {},
   "source": [
    "In this notebook, we benchmark the latest version of [XGBoost](https://github.com/dmlc/xgboost), the well-known Kaggle-winning gradient boosting algorithm, and in particular, the [XGBoost GPU plugin](https://github.com/dmlc/xgboost/blob/master/plugin/updater_gpu/README.md).\n",
    "In addition, we showcase the H2O integration of XGBoost."
   ]
  },
  {
   "cell_type": "code",
   "execution_count": 1,
   "metadata": {
    "collapsed": false
   },
   "outputs": [],
   "source": [
    "#!easy_install http://s3.amazonaws.com/h2o-deepwater/public/nightly/latest/xgboost-0.6-py2.7.egg ## for python 2\n",
    "#!easy_install http://s3.amazonaws.com/h2o-deepwater/public/nightly/latest/xgboost-0.6-py3.5.egg ## for python 3\n",
    "#!pip install http://s3.amazonaws.com/h2o-deepwater/public/nightly/latest/h2o-3.11.0-py2.py3-none-any.whl"
   ]
  },
  {
   "cell_type": "code",
   "execution_count": 2,
   "metadata": {
    "collapsed": false,
    "deletable": true,
    "editable": true
   },
   "outputs": [],
   "source": [
    "%matplotlib inline\n",
    "import xgboost as xgb\n",
    "import pandas as pd\n",
    "import numpy as np\n",
    "import scipy as sp\n",
    "import os\n",
    "import time\n",
    "from sklearn import metrics"
   ]
  },
  {
   "cell_type": "code",
   "execution_count": 3,
   "metadata": {
    "collapsed": false,
    "deletable": true,
    "editable": true
   },
   "outputs": [
    {
     "name": "stderr",
     "output_type": "stream",
     "text": [
      "/home/arno/.pyenv/versions/3.6.0/envs/h2oai/lib/python3.6/site-packages/IPython/core/interactiveshell.py:2717: DtypeWarning: Columns (10,22) have mixed types. Specify dtype option on import or set low_memory=False.\n",
      "  interactivity=interactivity, compiler=compiler, result=result)\n"
     ]
    },
    {
     "name": "stdout",
     "output_type": "stream",
     "text": [
      "Time to parse by Pandas (sec):  14.629498481750488\n"
     ]
    }
   ],
   "source": [
    "if False:\n",
    "    ## Kaggle dataset - download from \n",
    "    ## https://www.kaggle.com/c/santander-customer-satisfaction/data\n",
    "    path = \"/home/arno/kaggle/santander/data/train.csv\"\n",
    "    target = \"TARGET\"\n",
    "    trainrows=60000\n",
    "    drop_cols=[\"ID\"]\n",
    "    num_class = 2\n",
    "    num_round = 200\n",
    "    learn_rate = 0.02\n",
    "    max_depth = 8\n",
    "\n",
    "    ## Parse data into a Pandas Frame\n",
    "    t_start = time.time()\n",
    "    df = pd.read_csv(path)\n",
    "    if drop_cols is not None:\n",
    "        df = df.drop(drop_cols, axis=1)\n",
    "    print(\"Time to parse by Pandas (sec): \", time.time() - t_start)\n",
    "\n",
    "    df_target = df[target]\n",
    "    df = df.drop(target, axis=1)\n",
    "    cols = df.columns.values\n",
    "    df.shape\n",
    "else:\n",
    "    ## Airline dataset\n",
    "    ## https://s3.amazonaws.com/h2o-public-test-data/bigdata/laptop/airlines_all.05p.csv\"\n",
    "    path = \"/home/arno/h2o-3/bigdata/laptop/airlines_all.05p.csv\"\n",
    "    target = \"IsDepDelayed\"\n",
    "    trainrows=3000000\n",
    "    drop_cols=['ArrTime','DepTime','ActualElapsedTime','AirTime','ArrDelay',\n",
    "               'DepDelay','TaxiIn', 'TaxiOut', 'Cancelled',\n",
    "               'CancellationCode', 'Diverted', 'CarrierDelay', \n",
    "              'WeatherDelay', 'NASDelay', 'SecurityDelay', 'TailNum',\n",
    "              'LateAircraftDelay', 'IsArrDelayed']\n",
    "    header = None\n",
    "    num_round = 100\n",
    "    learn_rate = 0.02\n",
    "    max_depth = 8\n",
    "    num_class = 2\n",
    "\n",
    "    ## Parse data into a Pandas Frame\n",
    "    t_start = time.time()\n",
    "    df = pd.read_csv(path,encoding= \"ISO-8859-1\")\n",
    "    if drop_cols is not None:\n",
    "        df = df.drop(drop_cols, axis=1)\n",
    "    print(\"Time to parse by Pandas (sec): \", time.time() - t_start)\n",
    "\n",
    "    df_target = df[target].replace(('YES', 'NO'), (1, 0))\n",
    "    df = df.drop(target, axis=1)\n",
    "    cols = df.columns.values\n",
    "    df.shape\n",
    "\n",
    "    from sklearn import preprocessing\n",
    "    catcols = df.select_dtypes(include=['object'])\n",
    "    cc = [x for x in list(catcols.columns)]\n",
    "    for f in cc:\n",
    "        df[f] = preprocessing.LabelEncoder().fit_transform(list(df[f].values))"
   ]
  },
  {
   "cell_type": "code",
   "execution_count": 4,
   "metadata": {
    "collapsed": false,
    "deletable": true,
    "editable": true
   },
   "outputs": [],
   "source": [
    "train = df.iloc[:trainrows,:]\n",
    "test  = df.iloc[trainrows:,:]\n",
    "train_target = df_target.iloc[:trainrows]\n",
    "test_target  = df_target.iloc[trainrows:]"
   ]
  },
  {
   "cell_type": "code",
   "execution_count": 5,
   "metadata": {
    "collapsed": false,
    "deletable": true,
    "editable": true
   },
   "outputs": [
    {
     "name": "stdout",
     "output_type": "stream",
     "text": [
      "<class 'pandas.core.frame.DataFrame'>\n",
      "RangeIndex: 3000000 entries, 0 to 2999999\n",
      "Data columns (total 12 columns):\n",
      "Year              int64\n",
      "Month             int64\n",
      "DayofMonth        int64\n",
      "DayOfWeek         int64\n",
      "CRSDepTime        int64\n",
      "CRSArrTime        int64\n",
      "UniqueCarrier     int64\n",
      "FlightNum         int64\n",
      "CRSElapsedTime    float64\n",
      "Origin            int64\n",
      "Dest              int64\n",
      "Distance          float64\n",
      "dtypes: float64(2), int64(10)\n",
      "memory usage: 274.7 MB\n",
      "None\n",
      "<class 'pandas.core.frame.DataFrame'>\n",
      "RangeIndex: 2834763 entries, 3000000 to 5834762\n",
      "Data columns (total 12 columns):\n",
      "Year              int64\n",
      "Month             int64\n",
      "DayofMonth        int64\n",
      "DayOfWeek         int64\n",
      "CRSDepTime        int64\n",
      "CRSArrTime        int64\n",
      "UniqueCarrier     int64\n",
      "FlightNum         int64\n",
      "CRSElapsedTime    float64\n",
      "Origin            int64\n",
      "Dest              int64\n",
      "Distance          float64\n",
      "dtypes: float64(2), int64(10)\n",
      "memory usage: 259.5 MB\n",
      "None\n"
     ]
    }
   ],
   "source": [
    "print(train.info())\n",
    "print(test.info())"
   ]
  },
  {
   "cell_type": "code",
   "execution_count": 6,
   "metadata": {
    "collapsed": false,
    "deletable": true,
    "editable": true
   },
   "outputs": [
    {
     "name": "stdout",
     "output_type": "stream",
     "text": [
      "Architecture:          x86_64\r\n",
      "CPU op-mode(s):        32-bit, 64-bit\r\n",
      "Byte Order:            Little Endian\r\n",
      "CPU(s):                40\r\n",
      "On-line CPU(s) list:   0-39\r\n",
      "Thread(s) per core:    2\r\n",
      "Core(s) per socket:    10\r\n",
      "Socket(s):             2\r\n",
      "NUMA node(s):          2\r\n",
      "Vendor ID:             GenuineIntel\r\n",
      "CPU family:            6\r\n",
      "Model:                 79\r\n",
      "Model name:            Intel(R) Xeon(R) CPU E5-2630 v4 @ 2.20GHz\r\n",
      "Stepping:              1\r\n",
      "CPU MHz:               1400.351\r\n",
      "CPU max MHz:           3100.0000\r\n",
      "CPU min MHz:           1200.0000\r\n",
      "BogoMIPS:              4401.66\r\n",
      "Virtualization:        VT-x\r\n",
      "L1d cache:             32K\r\n",
      "L1i cache:             32K\r\n",
      "L2 cache:              256K\r\n",
      "L3 cache:              25600K\r\n",
      "NUMA node0 CPU(s):     0-9,20-29\r\n",
      "NUMA node1 CPU(s):     10-19,30-39\r\n",
      "Flags:                 fpu vme de pse tsc msr pae mce cx8 apic sep mtrr pge mca cmov pat pse36 clflush dts acpi mmx fxsr sse sse2 ss ht tm pbe syscall nx pdpe1gb rdtscp lm constant_tsc arch_perfmon pebs bts rep_good nopl xtopology nonstop_tsc aperfmperf eagerfpu pni pclmulqdq dtes64 monitor ds_cpl vmx smx est tm2 ssse3 sdbg fma cx16 xtpr pdcm pcid dca sse4_1 sse4_2 x2apic movbe popcnt tsc_deadline_timer aes xsave avx f16c rdrand lahf_lm abm 3dnowprefetch epb intel_pt tpr_shadow vnmi flexpriority ept vpid fsgsbase tsc_adjust bmi1 hle avx2 smep bmi2 erms invpcid rtm cqm rdseed adx smap xsaveopt cqm_llc cqm_occup_llc cqm_mbm_total cqm_mbm_local dtherm ida arat pln pts\r\n"
     ]
    }
   ],
   "source": [
    "!lscpu"
   ]
  },
  {
   "cell_type": "code",
   "execution_count": 7,
   "metadata": {
    "collapsed": false,
    "deletable": true,
    "editable": true,
    "scrolled": true
   },
   "outputs": [
    {
     "name": "stdout",
     "output_type": "stream",
     "text": [
      "MemTotal:       264019784 kB\r\n"
     ]
    }
   ],
   "source": [
    "!cat /proc/meminfo | grep MemTotal"
   ]
  },
  {
   "cell_type": "code",
   "execution_count": 8,
   "metadata": {
    "collapsed": false
   },
   "outputs": [
    {
     "name": "stdout",
     "output_type": "stream",
     "text": [
      "GPU 0: GeForce GTX 1080 Ti (UUID: GPU-0eb406e1-1e7d-372f-c655-06fb94be3ea1)\r\n",
      "GPU 1: GeForce GTX 1080 Ti (UUID: GPU-00bd4213-ce77-bfb8-012f-6600b2b105fa)\r\n"
     ]
    }
   ],
   "source": [
    "!nvidia-smi -L"
   ]
  },
  {
   "cell_type": "code",
   "execution_count": 9,
   "metadata": {
    "collapsed": false
   },
   "outputs": [
    {
     "name": "stdout",
     "output_type": "stream",
     "text": [
      "Wed May 17 16:47:57 2017       \r\n",
      "+-----------------------------------------------------------------------------+\r\n",
      "| NVIDIA-SMI 381.09                 Driver Version: 381.09                    |\r\n",
      "|-------------------------------+----------------------+----------------------+\r\n",
      "| GPU  Name        Persistence-M| Bus-Id        Disp.A | Volatile Uncorr. ECC |\r\n",
      "| Fan  Temp  Perf  Pwr:Usage/Cap|         Memory-Usage | GPU-Util  Compute M. |\r\n",
      "|===============================+======================+======================|\r\n",
      "|   0  GeForce GTX 108...  Off  | 0000:02:00.0      On |                  N/A |\r\n",
      "| 27%   44C    P5    26W / 250W |    913MiB / 11172MiB |     13%      Default |\r\n",
      "+-------------------------------+----------------------+----------------------+\r\n",
      "|   1  GeForce GTX 108...  Off  | 0000:81:00.0     Off |                  N/A |\r\n",
      "| 23%   38C    P8    13W / 250W |      2MiB / 11172MiB |      0%      Default |\r\n",
      "+-------------------------------+----------------------+----------------------+\r\n",
      "                                                                               \r\n",
      "+-----------------------------------------------------------------------------+\r\n",
      "| Processes:                                                       GPU Memory |\r\n",
      "|  GPU       PID  Type  Process name                               Usage      |\r\n",
      "|=============================================================================|\r\n",
      "|    0      1596    G   /usr/lib/xorg/Xorg                             660MiB |\r\n",
      "|    0      2679    G   compiz                                         147MiB |\r\n",
      "|    0      7339    G   ...el-token=7BDA6873BA53F4674C5AFF3EFCF809E0   102MiB |\r\n",
      "+-----------------------------------------------------------------------------+\r\n"
     ]
    }
   ],
   "source": [
    "!nvidia-smi"
   ]
  },
  {
   "cell_type": "code",
   "execution_count": 10,
   "metadata": {
    "collapsed": false
   },
   "outputs": [],
   "source": [
    "def runXGBoost(param):\n",
    "    have_updater = \"updater\" in param.keys()\n",
    "    label = \"XGBoost \" \\\n",
    "        + (\"GPU hist\" if have_updater and param[\"updater\"]==\"grow_gpu_hist\" else \"GPU exact\" if have_updater and param[\"updater\"]==\"grow_gpu\" else \"CPU\") \\\n",
    "        + \" \" + (param[\"tree_method\"] if \"updater\" not in param.keys() else \"\")\n",
    "    print(label)\n",
    "    print(\"=====================\")\n",
    "    for k, v in param.items():\n",
    "        print(k, v)\n",
    "    print(\"=====================\")\n",
    "    \n",
    "    t_start = time.time()\n",
    "    dtrain = xgb.DMatrix(train.values, label = train_target.values, feature_names=[str(c) for c in cols])\n",
    "    dtest  = xgb.DMatrix(test.values,  label = test_target.values,  feature_names=[str(c) for c in cols])\n",
    "    tt = time.time() - t_start\n",
    "    print(\"Time to create DMatrix (sec): \", tt)\n",
    "    dmatrix_times.append(tt)\n",
    "    \n",
    "    t_start = time.time()\n",
    "    bst = xgb.train(param, dtrain, num_round)\n",
    "    tt = time.time() - t_start\n",
    "    print(\"Time to train (sec): \", tt)\n",
    "    train_times.append(tt)\n",
    "\n",
    "    t_start = time.time()\n",
    "    preds = bst.predict(dtest)\n",
    "    tt = time.time() - t_start\n",
    "    print(\"Time to predict (sec): \", tt)\n",
    "    score_times.append(tt)\n",
    "\n",
    "    labels = dtest.get_label()\n",
    "    auc = metrics.roc_auc_score(labels, preds)\n",
    "    print(\"AUC:\", auc)\n",
    "    valid_aucs.append(auc)\n",
    "    plot_labels.append(label)\n",
    "    \n",
    "    fs = bst.get_fscore()\n",
    "    \n",
    "    # Optional: Uncomment to show variable importance\n",
    "    #varimp = pd.DataFrame({'Importance': list(fs.values()), 'Feature': list(fs.keys())})\n",
    "    #varimp.sort_values(by = 'Importance', inplace = True, ascending = False)\n",
    "    #varimp.head(10).plot(label='importance',kind=\"barh\",x=\"Feature\",y=\"Importance\").invert_yaxis()"
   ]
  },
  {
   "cell_type": "code",
   "execution_count": 11,
   "metadata": {
    "collapsed": true,
    "deletable": true,
    "editable": true
   },
   "outputs": [],
   "source": [
    "valid_aucs = []\n",
    "dmatrix_times = []\n",
    "train_times = []\n",
    "score_times = []\n",
    "plot_labels = []"
   ]
  },
  {
   "cell_type": "code",
   "execution_count": 12,
   "metadata": {
    "collapsed": false,
    "deletable": true,
    "editable": true,
    "scrolled": false
   },
   "outputs": [
    {
     "name": "stdout",
     "output_type": "stream",
     "text": [
      "XGBoost CPU exact\n",
      "=====================\n",
      "objective reg:logistic\n",
      "max_depth 8\n",
      "eta 0.02\n",
      "tree_method exact\n",
      "subsample 0.7\n",
      "colsample_bytree 0.9\n",
      "min_child_weight 5\n",
      "seed 12345\n",
      "=====================\n",
      "Time to create DMatrix (sec):  2.513124942779541\n",
      "Time to train (sec):  207.36264038085938\n",
      "Time to predict (sec):  1.0776019096374512\n",
      "AUC: 0.630080186918\n"
     ]
    }
   ],
   "source": [
    "param = {\n",
    "    \"objective\":('reg:logistic' if num_class>1 else 'reg:linear')\n",
    "    , \"max_depth\":max_depth\n",
    "    , \"eta\":learn_rate\n",
    "    , \"tree_method\":\"exact\"\n",
    "    , \"subsample\":0.7\n",
    "    , \"colsample_bytree\":0.9\n",
    "    , \"min_child_weight\":5\n",
    "    , \"seed\":12345\n",
    "}\n",
    "runXGBoost(param)"
   ]
  },
  {
   "cell_type": "code",
   "execution_count": 13,
   "metadata": {
    "collapsed": false,
    "deletable": true,
    "editable": true,
    "scrolled": true
   },
   "outputs": [
    {
     "name": "stdout",
     "output_type": "stream",
     "text": [
      "XGBoost CPU approx\n",
      "=====================\n",
      "objective reg:logistic\n",
      "max_depth 8\n",
      "eta 0.02\n",
      "tree_method approx\n",
      "subsample 0.7\n",
      "colsample_bytree 0.9\n",
      "min_child_weight 5\n",
      "seed 12345\n",
      "=====================\n",
      "Time to create DMatrix (sec):  2.7356014251708984\n",
      "Time to train (sec):  211.33267498016357\n",
      "Time to predict (sec):  0.9265875816345215\n",
      "AUC: 0.629924023466\n"
     ]
    }
   ],
   "source": [
    "param = {\n",
    "    \"objective\":('reg:logistic' if num_class>1 else 'reg:linear')\n",
    "    , \"max_depth\":max_depth\n",
    "    , \"eta\":learn_rate\n",
    "    , \"tree_method\":\"approx\"\n",
    "    , \"subsample\":0.7\n",
    "    , \"colsample_bytree\":0.9\n",
    "    , \"min_child_weight\":5\n",
    "    , \"seed\":12345\n",
    "}\n",
    "runXGBoost(param)"
   ]
  },
  {
   "cell_type": "code",
   "execution_count": 14,
   "metadata": {
    "collapsed": false
   },
   "outputs": [
    {
     "name": "stdout",
     "output_type": "stream",
     "text": [
      "XGBoost CPU hist\n",
      "=====================\n",
      "objective reg:logistic\n",
      "max_depth 8\n",
      "eta 0.02\n",
      "tree_method hist\n",
      "subsample 0.7\n",
      "colsample_bytree 0.9\n",
      "min_child_weight 5\n",
      "seed 12345\n",
      "=====================\n",
      "Time to create DMatrix (sec):  2.587888717651367\n",
      "Time to train (sec):  77.31922698020935\n",
      "Time to predict (sec):  1.0576026439666748\n",
      "AUC: 0.629687891783\n"
     ]
    }
   ],
   "source": [
    "param = {\n",
    "    \"objective\":('reg:logistic' if num_class>1 else 'reg:linear')\n",
    "    , \"max_depth\":max_depth\n",
    "    , \"eta\":learn_rate\n",
    "    , \"tree_method\":\"hist\"\n",
    "    , \"subsample\":0.7\n",
    "    , \"colsample_bytree\":0.9\n",
    "    , \"min_child_weight\":5\n",
    "    , \"seed\":12345\n",
    "}\n",
    "runXGBoost(param)"
   ]
  },
  {
   "cell_type": "code",
   "execution_count": 15,
   "metadata": {
    "collapsed": false,
    "deletable": true,
    "editable": true,
    "scrolled": true
   },
   "outputs": [
    {
     "name": "stdout",
     "output_type": "stream",
     "text": [
      "XGBoost GPU exact \n",
      "=====================\n",
      "objective reg:logistic\n",
      "max_depth 8\n",
      "eta 0.02\n",
      "tree_method exact\n",
      "updater grow_gpu\n",
      "subsample 0.7\n",
      "colsample_bytree 0.9\n",
      "min_child_weight 5\n",
      "seed 12345\n",
      "=====================\n",
      "Time to create DMatrix (sec):  2.4303436279296875\n",
      "Time to train (sec):  58.58342146873474\n",
      "Time to predict (sec):  1.0600135326385498\n",
      "AUC: 0.626913681867\n"
     ]
    }
   ],
   "source": [
    "param = {\n",
    "    \"objective\":('reg:logistic' if num_class>1 else 'reg:linear')\n",
    "    , \"max_depth\":max_depth\n",
    "    , \"eta\":learn_rate\n",
    "    , \"tree_method\":\"exact\"\n",
    "    , \"updater\":\"grow_gpu\"\n",
    "    , \"subsample\":0.7\n",
    "    , \"colsample_bytree\":0.9\n",
    "    , \"min_child_weight\":5\n",
    "    , \"seed\":12345\n",
    "}\n",
    "runXGBoost(param)"
   ]
  },
  {
   "cell_type": "code",
   "execution_count": 16,
   "metadata": {
    "collapsed": false,
    "deletable": true,
    "editable": true,
    "scrolled": false
   },
   "outputs": [
    {
     "name": "stdout",
     "output_type": "stream",
     "text": [
      "XGBoost GPU hist \n",
      "=====================\n",
      "objective reg:logistic\n",
      "max_depth 8\n",
      "eta 0.02\n",
      "tree_method exact\n",
      "updater grow_gpu_hist\n",
      "subsample 0.7\n",
      "colsample_bytree 0.9\n",
      "min_child_weight 5\n",
      "seed 12345\n",
      "=====================\n",
      "Time to create DMatrix (sec):  2.3835229873657227\n",
      "Time to train (sec):  9.591382026672363\n",
      "Time to predict (sec):  1.0461761951446533\n",
      "AUC: 0.627918966171\n"
     ]
    }
   ],
   "source": [
    "param = {\n",
    "    \"objective\":('reg:logistic' if num_class>1 else 'reg:linear')\n",
    "    , \"max_depth\":max_depth\n",
    "    , \"eta\":learn_rate\n",
    "    , \"tree_method\":\"exact\"\n",
    "    , \"updater\":\"grow_gpu_hist\"\n",
    "    , \"subsample\":0.7\n",
    "    , \"colsample_bytree\":0.9\n",
    "    , \"min_child_weight\":5\n",
    "    , \"seed\":12345\n",
    "}\n",
    "runXGBoost(param)"
   ]
  },
  {
   "cell_type": "code",
   "execution_count": 17,
   "metadata": {
    "collapsed": false,
    "deletable": true,
    "editable": true,
    "scrolled": false
   },
   "outputs": [
    {
     "data": {
      "text/html": [
       "<div>\n",
       "<table border=\"1\" class=\"dataframe\">\n",
       "  <thead>\n",
       "    <tr style=\"text-align: right;\">\n",
       "      <th></th>\n",
       "      <th>algorithm</th>\n",
       "      <th>dmatrix time</th>\n",
       "      <th>scoring time</th>\n",
       "      <th>training time</th>\n",
       "      <th>validation AUC</th>\n",
       "    </tr>\n",
       "  </thead>\n",
       "  <tbody>\n",
       "    <tr>\n",
       "      <th>4</th>\n",
       "      <td>XGBoost GPU hist</td>\n",
       "      <td>2.383523</td>\n",
       "      <td>1.046176</td>\n",
       "      <td>9.591382</td>\n",
       "      <td>0.627919</td>\n",
       "    </tr>\n",
       "    <tr>\n",
       "      <th>3</th>\n",
       "      <td>XGBoost GPU exact</td>\n",
       "      <td>2.430344</td>\n",
       "      <td>1.060014</td>\n",
       "      <td>58.583421</td>\n",
       "      <td>0.626914</td>\n",
       "    </tr>\n",
       "    <tr>\n",
       "      <th>2</th>\n",
       "      <td>XGBoost CPU hist</td>\n",
       "      <td>2.587889</td>\n",
       "      <td>1.057603</td>\n",
       "      <td>77.319227</td>\n",
       "      <td>0.629688</td>\n",
       "    </tr>\n",
       "    <tr>\n",
       "      <th>0</th>\n",
       "      <td>XGBoost CPU exact</td>\n",
       "      <td>2.513125</td>\n",
       "      <td>1.077602</td>\n",
       "      <td>207.362640</td>\n",
       "      <td>0.630080</td>\n",
       "    </tr>\n",
       "    <tr>\n",
       "      <th>1</th>\n",
       "      <td>XGBoost CPU approx</td>\n",
       "      <td>2.735601</td>\n",
       "      <td>0.926588</td>\n",
       "      <td>211.332675</td>\n",
       "      <td>0.629924</td>\n",
       "    </tr>\n",
       "  </tbody>\n",
       "</table>\n",
       "</div>"
      ],
      "text/plain": [
       "            algorithm  dmatrix time  scoring time  training time  \\\n",
       "4   XGBoost GPU hist       2.383523      1.046176       9.591382   \n",
       "3  XGBoost GPU exact       2.430344      1.060014      58.583421   \n",
       "2    XGBoost CPU hist      2.587889      1.057603      77.319227   \n",
       "0   XGBoost CPU exact      2.513125      1.077602     207.362640   \n",
       "1  XGBoost CPU approx      2.735601      0.926588     211.332675   \n",
       "\n",
       "   validation AUC  \n",
       "4        0.627919  \n",
       "3        0.626914  \n",
       "2        0.629688  \n",
       "0        0.630080  \n",
       "1        0.629924  "
      ]
     },
     "execution_count": 17,
     "metadata": {},
     "output_type": "execute_result"
    }
   ],
   "source": [
    "data = pd.DataFrame({'algorithm'  :plot_labels,\n",
    "                     'dmatrix time':dmatrix_times,\n",
    "                     'training time':train_times,\n",
    "                     'scoring time':score_times,\n",
    "                     'validation AUC' :valid_aucs}).sort_values(by=\"training time\")\n",
    "data"
   ]
  },
  {
   "cell_type": "code",
   "execution_count": 18,
   "metadata": {
    "collapsed": false
   },
   "outputs": [
    {
     "data": {
      "text/plain": [
       "<matplotlib.axes._subplots.AxesSubplot at 0x7f4b81271e80>"
      ]
     },
     "execution_count": 18,
     "metadata": {},
     "output_type": "execute_result"
    },
    {
     "data": {
      "image/png": "[encoded data removed]",
      "text/plain": [
       "<matplotlib.figure.Figure at 0x7f4b859f1898>"
      ]
     },
     "metadata": {},
     "output_type": "display_data"
    },
    {
     "data": {
      "image/png": "[encoded data removed]",
      "text/plain": [
       "<matplotlib.figure.Figure at 0x7f4b81077b38>"
      ]
     },
     "metadata": {},
     "output_type": "display_data"
    },
    {
     "data": {
      "image/png": "[encoded data removed]",
      "text/plain": [
       "<matplotlib.figure.Figure at 0x7f4b81205e48>"
      ]
     },
     "metadata": {},
     "output_type": "display_data"
    }
   ],
   "source": [
    "data.plot(label=\"training time\",kind='barh',x='algorithm',y='training time')\n",
    "data.plot(title=\"validation AUC\",kind='barh',x='algorithm',y='validation AUC',legend=False)\n",
    "data.plot(label=\"dmatrix time\",kind='barh',x='algorithm',y='dmatrix time')"
   ]
  },
  {
   "cell_type": "markdown",
   "metadata": {
    "deletable": true,
    "editable": true
   },
   "source": [
    "## Now call XGBoost from H2O"
   ]
  },
  {
   "cell_type": "code",
   "execution_count": 19,
   "metadata": {
    "collapsed": false,
    "deletable": true,
    "editable": true,
    "scrolled": false
   },
   "outputs": [
    {
     "name": "stdout",
     "output_type": "stream",
     "text": [
      "Checking whether there is an H2O instance running at http://localhost:54321..... not found.\n",
      "Attempting to start a local H2O server...\n",
      "  Java Version: java version \"1.8.0_101\"; Java(TM) SE Runtime Environment (build 1.8.0_101-b13); Java HotSpot(TM) 64-Bit Server VM (build 25.101-b13, mixed mode)\n",
      "  Starting server from /home/arno/.pyenv/versions/3.6.0/envs/h2oai/lib/python3.6/site-packages/h2o/backend/bin/h2o.jar\n",
      "  Ice root: /tmp/tmpv379bi73\n",
      "  JVM stdout: /tmp/tmpv379bi73/h2o_arno_started_from_python.out\n",
      "  JVM stderr: /tmp/tmpv379bi73/h2o_arno_started_from_python.err\n",
      "  Server is running at http://127.0.0.1:54321\n",
      "Connecting to H2O server at http://127.0.0.1:54321... successful.\n"
     ]
    },
    {
     "data": {
      "text/html": [
       "<div style=\"overflow:auto\"><table style=\"width:50%\"><tr><td>H2O cluster uptime:</td>\n",
       "<td>04 secs</td></tr>\n",
       "<tr><td>H2O cluster version:</td>\n",
       "<td>3.11.0.248</td></tr>\n",
       "<tr><td>H2O cluster version age:</td>\n",
       "<td>7 hours and 48 minutes </td></tr>\n",
       "<tr><td>H2O cluster name:</td>\n",
       "<td>H2O_from_python_arno_4qls9y</td></tr>\n",
       "<tr><td>H2O cluster total nodes:</td>\n",
       "<td>1</td></tr>\n",
       "<tr><td>H2O cluster free memory:</td>\n",
       "<td>26.67 Gb</td></tr>\n",
       "<tr><td>H2O cluster total cores:</td>\n",
       "<td>40</td></tr>\n",
       "<tr><td>H2O cluster allowed cores:</td>\n",
       "<td>40</td></tr>\n",
       "<tr><td>H2O cluster status:</td>\n",
       "<td>accepting new members, healthy</td></tr>\n",
       "<tr><td>H2O connection url:</td>\n",
       "<td>http://127.0.0.1:54321</td></tr>\n",
       "<tr><td>H2O connection proxy:</td>\n",
       "<td>None</td></tr>\n",
       "<tr><td>H2O internal security:</td>\n",
       "<td>False</td></tr>\n",
       "<tr><td>Python version:</td>\n",
       "<td>3.6.0 final</td></tr></table></div>"
      ],
      "text/plain": [
       "--------------------------  ------------------------------\n",
       "H2O cluster uptime:         04 secs\n",
       "H2O cluster version:        3.11.0.248\n",
       "H2O cluster version age:    7 hours and 48 minutes\n",
       "H2O cluster name:           H2O_from_python_arno_4qls9y\n",
       "H2O cluster total nodes:    1\n",
       "H2O cluster free memory:    26.67 Gb\n",
       "H2O cluster total cores:    40\n",
       "H2O cluster allowed cores:  40\n",
       "H2O cluster status:         accepting new members, healthy\n",
       "H2O connection url:         http://127.0.0.1:54321\n",
       "H2O connection proxy:\n",
       "H2O internal security:      False\n",
       "Python version:             3.6.0 final\n",
       "--------------------------  ------------------------------"
      ]
     },
     "metadata": {},
     "output_type": "display_data"
    },
    {
     "name": "stdout",
     "output_type": "stream",
     "text": [
      "Parse progress: |█████████████████████████████████████████████████████████| 100%\n",
      "Time to parse by H2O (sec):  6.142284154891968\n"
     ]
    }
   ],
   "source": [
    "import h2o\n",
    "from h2o.estimators import H2OXGBoostEstimator\n",
    "h2o.init()\n",
    "\n",
    "t_start = time.time()\n",
    "df_hex = h2o.import_file(path)\n",
    "print(\"Time to parse by H2O (sec): \", time.time() - t_start)\n",
    "\n",
    "for c in drop_cols:\n",
    "    df_hex = df_hex.drop(c, axis=1)\n",
    "\n",
    "## Note: Frame contains categorical columns\n",
    "## H2O internally handles them according to the 'categorical_encoding' parameter\n",
    "trainhex = df_hex[:trainrows,:]\n",
    "testhex  = df_hex[trainrows:,:]\n",
    "trainhex[target] = (trainhex[target]).asfactor()\n",
    "testhex[target] = (testhex[target]).asfactor()"
   ]
  },
  {
   "cell_type": "code",
   "execution_count": 20,
   "metadata": {
    "collapsed": false
   },
   "outputs": [],
   "source": [
    "def runH2OXGBoost(param):\n",
    "    label = \"H2O XGBoost \" \\\n",
    "    + (\"GPU\" if \"backend\" in param.keys() and \"gpu\"==param[\"backend\"] else \"CPU\") \\\n",
    "    + (\" \" + param[\"tree_method\"] if \"tree_method\" in param.keys() else \"\")\n",
    "    print(label)\n",
    "    print(\"=====================\")\n",
    "    for k, v in param.items():\n",
    "        print(k, v)\n",
    "    print(\"=====================\")\n",
    "        \n",
    "    t_start = time.time()\n",
    "    model = H2OXGBoostEstimator(**param)\n",
    "    model.train(x = list(cols), y = target, training_frame = trainhex)\n",
    "    tt = time.time() - t_start\n",
    "    print(\"Time to train (sec): \", tt)\n",
    "    h2o_train_times.append(tt)\n",
    "\n",
    "    t_start = time.time()\n",
    "    preds = model.predict(testhex)[:,2]\n",
    "    tt = time.time() - t_start\n",
    "    print(\"Time to predict (sec): \", tt)\n",
    "    h2o_score_times.append(tt)\n",
    "\n",
    "    preds = h2o.as_list(preds)\n",
    "    labels = test_target.values\n",
    "    auc = metrics.roc_auc_score(labels, preds)\n",
    "    print(\"AUC:\", auc)\n",
    "\n",
    "    h2o_valid_aucs.append(auc)\n",
    "    h2o_plot_labels.append(label)\n",
    "    \n",
    "    #pd.DataFrame(model.varimp(),columns=[\"Feature\",\"\",\"Importance\",\"\"]).head(10).plot(label='importance',kind=\"barh\",x=\"Feature\",y=\"Importance\").invert_yaxis()    "
   ]
  },
  {
   "cell_type": "code",
   "execution_count": 21,
   "metadata": {
    "collapsed": true
   },
   "outputs": [],
   "source": [
    "h2o_valid_aucs = []\n",
    "h2o_train_times = []\n",
    "h2o_score_times = []\n",
    "h2o_plot_labels = []"
   ]
  },
  {
   "cell_type": "code",
   "execution_count": 22,
   "metadata": {
    "collapsed": false,
    "deletable": true,
    "editable": true
   },
   "outputs": [
    {
     "name": "stdout",
     "output_type": "stream",
     "text": [
      "H2O XGBoost CPU exact\n",
      "=====================\n",
      "ntrees 100\n",
      "max_depth 8\n",
      "eta 0.02\n",
      "subsample 0.7\n",
      "colsample_bytree 0.9\n",
      "min_child_weight 5\n",
      "seed 12345\n",
      "score_tree_interval 100\n",
      "backend cpu\n",
      "tree_method exact\n",
      "=====================\n",
      "xgboost Model Build progress: |███████████████████████████████████████████| 100%\n",
      "Time to train (sec):  236.10045742988586\n",
      "xgboost prediction progress: |████████████████████████████████████████████| 100%\n",
      "Time to predict (sec):  11.305573463439941\n",
      "AUC: 0.630080186918\n"
     ]
    }
   ],
   "source": [
    "param = {\n",
    "    \"ntrees\":num_round\n",
    "    , \"max_depth\":max_depth\n",
    "    , \"eta\":learn_rate\n",
    "    , \"subsample\":0.7\n",
    "    , \"colsample_bytree\":0.9\n",
    "    , \"min_child_weight\":5\n",
    "    , \"seed\":12345\n",
    "    , \"score_tree_interval\":num_round\n",
    "    , \"backend\":\"cpu\"\n",
    "    , \"tree_method\":\"exact\"\n",
    "}\n",
    "runH2OXGBoost(param)"
   ]
  },
  {
   "cell_type": "code",
   "execution_count": 23,
   "metadata": {
    "collapsed": false
   },
   "outputs": [
    {
     "name": "stdout",
     "output_type": "stream",
     "text": [
      "H2O XGBoost CPU approx\n",
      "=====================\n",
      "ntrees 100\n",
      "max_depth 8\n",
      "eta 0.02\n",
      "subsample 0.7\n",
      "colsample_bytree 0.9\n",
      "min_child_weight 5\n",
      "seed 12345\n",
      "score_tree_interval 100\n",
      "backend cpu\n",
      "tree_method approx\n",
      "=====================\n",
      "xgboost Model Build progress: |███████████████████████████████████████████| 100%\n",
      "Time to train (sec):  233.8305742740631\n",
      "xgboost prediction progress: |████████████████████████████████████████████| 100%\n",
      "Time to predict (sec):  11.045172214508057\n",
      "AUC: 0.629924023466\n"
     ]
    }
   ],
   "source": [
    "param = {\n",
    "    \"ntrees\":num_round\n",
    "    , \"max_depth\":max_depth\n",
    "    , \"eta\":learn_rate\n",
    "    , \"subsample\":0.7\n",
    "    , \"colsample_bytree\":0.9\n",
    "    , \"min_child_weight\":5\n",
    "    , \"seed\":12345\n",
    "    , \"score_tree_interval\":num_round\n",
    "    , \"backend\":\"cpu\"\n",
    "    , \"tree_method\":\"approx\"\n",
    "}\n",
    "runH2OXGBoost(param)"
   ]
  },
  {
   "cell_type": "code",
   "execution_count": 24,
   "metadata": {
    "collapsed": false,
    "deletable": true,
    "editable": true,
    "scrolled": true
   },
   "outputs": [
    {
     "name": "stdout",
     "output_type": "stream",
     "text": [
      "H2O XGBoost CPU hist\n",
      "=====================\n",
      "ntrees 100\n",
      "max_depth 8\n",
      "eta 0.02\n",
      "subsample 0.7\n",
      "colsample_bytree 0.9\n",
      "min_child_weight 5\n",
      "seed 12345\n",
      "score_tree_interval 100\n",
      "backend cpu\n",
      "tree_method hist\n",
      "=====================\n",
      "xgboost Model Build progress: |███████████████████████████████████████████| 100%\n",
      "Time to train (sec):  97.46477270126343\n",
      "xgboost prediction progress: |████████████████████████████████████████████| 100%\n",
      "Time to predict (sec):  12.549890756607056\n",
      "AUC: 0.629687891783\n"
     ]
    }
   ],
   "source": [
    "param = {\n",
    "    \"ntrees\":num_round\n",
    "    , \"max_depth\":max_depth\n",
    "    , \"eta\":learn_rate\n",
    "    , \"subsample\":0.7\n",
    "    , \"colsample_bytree\":0.9\n",
    "    , \"min_child_weight\":5\n",
    "    , \"seed\":12345\n",
    "    , \"score_tree_interval\":num_round\n",
    "    , \"backend\":\"cpu\"\n",
    "    , \"tree_method\":\"hist\"\n",
    "}\n",
    "runH2OXGBoost(param)"
   ]
  },
  {
   "cell_type": "code",
   "execution_count": 25,
   "metadata": {
    "collapsed": false,
    "deletable": true,
    "editable": true,
    "scrolled": true
   },
   "outputs": [
    {
     "name": "stdout",
     "output_type": "stream",
     "text": [
      "H2O XGBoost GPU exact\n",
      "=====================\n",
      "ntrees 100\n",
      "max_depth 8\n",
      "learn_rate 0.02\n",
      "sample_rate 0.7\n",
      "col_sample_rate_per_tree 0.9\n",
      "min_rows 5\n",
      "seed 12345\n",
      "score_tree_interval 100\n",
      "backend gpu\n",
      "tree_method exact\n",
      "=====================\n",
      "xgboost Model Build progress: |███████████████████████████████████████████| 100%\n",
      "Time to train (sec):  89.5453429222107\n",
      "xgboost prediction progress: |████████████████████████████████████████████| 100%\n",
      "Time to predict (sec):  12.487805366516113\n",
      "AUC: 0.626913797683\n"
     ]
    }
   ],
   "source": [
    "param = {\n",
    "    \"ntrees\":num_round\n",
    "    , \"max_depth\":max_depth\n",
    "    , \"learn_rate\":learn_rate\n",
    "    , \"sample_rate\":0.7\n",
    "    , \"col_sample_rate_per_tree\":0.9\n",
    "    , \"min_rows\":5\n",
    "    , \"seed\":12345\n",
    "    , \"score_tree_interval\":num_round\n",
    "    , \"backend\":\"gpu\"\n",
    "    , \"tree_method\":\"exact\"\n",
    "}\n",
    "runH2OXGBoost(param)"
   ]
  },
  {
   "cell_type": "code",
   "execution_count": 26,
   "metadata": {
    "collapsed": false,
    "deletable": true,
    "editable": true
   },
   "outputs": [
    {
     "name": "stdout",
     "output_type": "stream",
     "text": [
      "H2O XGBoost GPU hist\n",
      "=====================\n",
      "ntrees 100\n",
      "max_depth 8\n",
      "learn_rate 0.02\n",
      "sample_rate 0.7\n",
      "col_sample_rate_per_tree 0.9\n",
      "min_rows 5\n",
      "seed 12345\n",
      "score_tree_interval 100\n",
      "backend gpu\n",
      "tree_method hist\n",
      "=====================\n",
      "xgboost Model Build progress: |██████████████████████████████████████████████| 100%\n",
      "Time to train (sec):  32.69223213195801\n",
      "xgboost prediction progress: |████████████████████████████████████████████| 100%\n",
      "Time to predict (sec):  11.002172470092773\n",
      "AUC: 0.625015492318\n"
     ]
    }
   ],
   "source": [
    "param = {\n",
    "    \"ntrees\":num_round\n",
    "    , \"max_depth\":max_depth\n",
    "    , \"learn_rate\":learn_rate\n",
    "    , \"sample_rate\":0.7\n",
    "    , \"col_sample_rate_per_tree\":0.9\n",
    "    , \"min_rows\":5\n",
    "    , \"seed\":12345\n",
    "    , \"score_tree_interval\":num_round\n",
    "    , \"backend\":\"gpu\"\n",
    "    , \"tree_method\":\"hist\"\n",
    "}\n",
    "runH2OXGBoost(param)"
   ]
  },
  {
   "cell_type": "markdown",
   "metadata": {
    "deletable": true,
    "editable": true
   },
   "source": [
    "## H2O GBM (CPU)"
   ]
  },
  {
   "cell_type": "code",
   "execution_count": 27,
   "metadata": {
    "collapsed": false,
    "deletable": true,
    "editable": true
   },
   "outputs": [
    {
     "name": "stdout",
     "output_type": "stream",
     "text": [
      "gbm Model Build progress: |███████████████████████████████████████████████| 100%\n",
      "Time to train (sec):  41.07345938682556\n",
      "gbm prediction progress: |████████████████████████████████████████████████| 100%\n",
      "Time to predict (sec):  7.937756299972534\n",
      "AUC: 0.629372327273\n"
     ]
    }
   ],
   "source": [
    "from h2o.estimators.gbm import H2OGradientBoostingEstimator\n",
    "param = {\n",
    "      \"ntrees\":num_round\n",
    "    , \"max_depth\":max_depth\n",
    "    , \"learn_rate\":learn_rate\n",
    "    , \"sample_rate\":0.7\n",
    "    , \"col_sample_rate_per_tree\":0.9\n",
    "    , \"min_rows\":5\n",
    "    , \"seed\":12345\n",
    "    , \"score_tree_interval\":num_round\n",
    "}\n",
    "\n",
    "t_start = time.time()\n",
    "model = H2OGradientBoostingEstimator(**param)\n",
    "model.train(x = list(cols), y = target, training_frame = trainhex)\n",
    "tt = time.time() - t_start\n",
    "print(\"Time to train (sec): \", tt)\n",
    "h2o_train_times.append(tt)\n",
    "\n",
    "t_start = time.time()\n",
    "preds = model.predict(testhex)[:,2]\n",
    "tt = time.time() - t_start\n",
    "print(\"Time to predict (sec): \", tt)\n",
    "h2o_score_times.append(tt)\n",
    "\n",
    "preds = h2o.as_list(preds)\n",
    "labels = test_target.values\n",
    "auc = metrics.roc_auc_score(labels, preds)\n",
    "print(\"AUC:\", auc)\n",
    "\n",
    "h2o_valid_aucs.append(auc)\n",
    "h2o_plot_labels.append(\"H2O GBM CPU\")\n",
    "\n",
    "# Show variable importance for the H2O GBM model\n",
    "#pd.DataFrame(model.varimp(),columns=[\"Feature\",\"\",\"Importance\",\"\"]).head(10).plot(label='importance',kind=\"barh\",x=\"Feature\",y=\"Importance\").invert_yaxis()"
   ]
  },
  {
   "cell_type": "code",
   "execution_count": 28,
   "metadata": {
    "collapsed": false,
    "deletable": true,
    "editable": true,
    "scrolled": true
   },
   "outputs": [
    {
     "data": {
      "text/html": [
       "<div>\n",
       "<table border=\"1\" class=\"dataframe\">\n",
       "  <thead>\n",
       "    <tr style=\"text-align: right;\">\n",
       "      <th></th>\n",
       "      <th>algorithm</th>\n",
       "      <th>scoring time</th>\n",
       "      <th>training time</th>\n",
       "      <th>validation AUC</th>\n",
       "    </tr>\n",
       "  </thead>\n",
       "  <tbody>\n",
       "    <tr>\n",
       "      <th>4</th>\n",
       "      <td>H2O XGBoost GPU hist</td>\n",
       "      <td>11.002172</td>\n",
       "      <td>32.692232</td>\n",
       "      <td>0.625015</td>\n",
       "    </tr>\n",
       "    <tr>\n",
       "      <th>5</th>\n",
       "      <td>H2O GBM CPU</td>\n",
       "      <td>7.937756</td>\n",
       "      <td>41.073459</td>\n",
       "      <td>0.629372</td>\n",
       "    </tr>\n",
       "    <tr>\n",
       "      <th>3</th>\n",
       "      <td>H2O XGBoost GPU exact</td>\n",
       "      <td>12.487805</td>\n",
       "      <td>89.545343</td>\n",
       "      <td>0.626914</td>\n",
       "    </tr>\n",
       "    <tr>\n",
       "      <th>2</th>\n",
       "      <td>H2O XGBoost CPU hist</td>\n",
       "      <td>12.549891</td>\n",
       "      <td>97.464773</td>\n",
       "      <td>0.629688</td>\n",
       "    </tr>\n",
       "    <tr>\n",
       "      <th>1</th>\n",
       "      <td>H2O XGBoost CPU approx</td>\n",
       "      <td>11.045172</td>\n",
       "      <td>233.830574</td>\n",
       "      <td>0.629924</td>\n",
       "    </tr>\n",
       "    <tr>\n",
       "      <th>0</th>\n",
       "      <td>H2O XGBoost CPU exact</td>\n",
       "      <td>11.305573</td>\n",
       "      <td>236.100457</td>\n",
       "      <td>0.630080</td>\n",
       "    </tr>\n",
       "  </tbody>\n",
       "</table>\n",
       "</div>"
      ],
      "text/plain": [
       "                algorithm  scoring time  training time  validation AUC\n",
       "4    H2O XGBoost GPU hist     11.002172      32.692232        0.625015\n",
       "5             H2O GBM CPU      7.937756      41.073459        0.629372\n",
       "3   H2O XGBoost GPU exact     12.487805      89.545343        0.626914\n",
       "2    H2O XGBoost CPU hist     12.549891      97.464773        0.629688\n",
       "1  H2O XGBoost CPU approx     11.045172     233.830574        0.629924\n",
       "0   H2O XGBoost CPU exact     11.305573     236.100457        0.630080"
      ]
     },
     "execution_count": 28,
     "metadata": {},
     "output_type": "execute_result"
    }
   ],
   "source": [
    "data = pd.DataFrame({'algorithm'  :h2o_plot_labels,\n",
    "                     'training time':h2o_train_times,\n",
    "                     'scoring time':h2o_score_times,\n",
    "                     'validation AUC' :h2o_valid_aucs}).sort_values(by=\"training time\")\n",
    "data"
   ]
  },
  {
   "cell_type": "code",
   "execution_count": 29,
   "metadata": {
    "collapsed": false,
    "deletable": true,
    "editable": true,
    "scrolled": false
   },
   "outputs": [
    {
     "data": {
      "text/plain": [
       "<matplotlib.axes._subplots.AxesSubplot at 0x7f4b815fa198>"
      ]
     },
     "execution_count": 29,
     "metadata": {},
     "output_type": "execute_result"
    },
    {
     "data": {
      "image/png": "[encoded data removed]",
      "text/plain": [
       "<matplotlib.figure.Figure at 0x7f4b814838d0>"
      ]
     },
     "metadata": {},
     "output_type": "display_data"
    },
    {
     "data": {
      "image/png": "[encoded data removed]",
      "text/plain": [
       "<matplotlib.figure.Figure at 0x7f4b8185a828>"
      ]
     },
     "metadata": {},
     "output_type": "display_data"
    }
   ],
   "source": [
    "data.plot(label=\"DMatrix + training time\",kind='barh',x='algorithm',y='training time')\n",
    "data.plot(title=\"validation AUC\",kind='barh',x='algorithm',y='validation AUC',legend=False)"
   ]
  }
 ],
 "metadata": {
  "anaconda-cloud": {},
  "kernelspec": {
   "display_name": "Python 3",
   "language": "python",
   "name": "python3"
  },
  "language_info": {
   "codemirror_mode": {
    "name": "ipython",
    "version": 3
   },
   "file_extension": ".py",
   "mimetype": "text/x-python",
   "name": "python",
   "nbconvert_exporter": "python",
   "pygments_lexer": "ipython3",
   "version": "3.6.0"
  }
 },
 "nbformat": 4,
 "nbformat_minor": 2
}

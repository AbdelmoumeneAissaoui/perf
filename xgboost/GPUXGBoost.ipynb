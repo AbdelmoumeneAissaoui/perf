{
 "cells": [
  {
   "cell_type": "markdown",
   "metadata": {
    "deletable": true,
    "editable": true
   },
   "source": [
    "# XGBoost GPU Benchmarks"
   ]
  },
  {
   "cell_type": "markdown",
   "metadata": {
    "deletable": true,
    "editable": true
   },
   "source": [
    "In this notebook, we benchmark the latest version of [XGBoost](https://github.com/dmlc/xgboost), the well-known Kaggle-winning gradient boosting algorithm, and in particular, the [XGBoost GPU plugin](https://github.com/dmlc/xgboost/blob/master/plugin/updater_gpu/README.md).\n",
    "In addition, we showcase the H2O integration of XGBoost."
   ]
  },
  {
   "cell_type": "code",
   "execution_count": 1,
   "metadata": {
    "collapsed": false,
    "deletable": true,
    "editable": true
   },
   "outputs": [],
   "source": [
    "#!easy_install http://s3.amazonaws.com/h2o-deepwater/public/nightly/latest/xgboost-0.6-py2.7.egg ## for python 2\n",
    "#!easy_install http://s3.amazonaws.com/h2o-deepwater/public/nightly/latest/xgboost-0.6-py3.5.egg ## for python 3\n",
    "#!pip install http://s3.amazonaws.com/h2o-deepwater/public/nightly/latest/h2o-3.11.0-py2.py3-none-any.whl"
   ]
  },
  {
   "cell_type": "code",
   "execution_count": 2,
   "metadata": {
    "collapsed": false,
    "deletable": true,
    "editable": true
   },
   "outputs": [
    {
     "name": "stderr",
     "output_type": "stream",
     "text": [
      "/home/arno/.pyenv/versions/3.6.0/lib/python3.6/json/encoder.py:199: DeprecationWarning: Interpreting naive datetime as local 2017-06-12 11:42:05.286490. Please add timezone info to timestamps.\n",
      "  chunks = self.iterencode(o, _one_shot=True)\n"
     ]
    }
   ],
   "source": [
    "%matplotlib inline\n",
    "import xgboost as xgb\n",
    "import pandas as pd\n",
    "import numpy as np\n",
    "import scipy as sp\n",
    "import os\n",
    "import time\n",
    "from sklearn import metrics\n",
    "import feather as ft"
   ]
  },
  {
   "cell_type": "code",
   "execution_count": 3,
   "metadata": {
    "collapsed": false,
    "deletable": true,
    "editable": true
   },
   "outputs": [
    {
     "name": "stderr",
     "output_type": "stream",
     "text": [
      "/home/arno/.pyenv/versions/3.6.0/lib/python3.6/json/encoder.py:199: DeprecationWarning: Interpreting naive datetime as local 2017-06-12 11:42:05.988599. Please add timezone info to timestamps.\n",
      "  chunks = self.iterencode(o, _one_shot=True)\n"
     ]
    }
   ],
   "source": [
    "if False:\n",
    "    ## Kaggle dataset - download from \n",
    "    ## https://www.kaggle.com/c/santander-customer-satisfaction/data\n",
    "    path = \"/home/arno/kaggle/santander/data/train.csv\"\n",
    "    target = \"TARGET\"\n",
    "    trainrows=60000\n",
    "    drop_cols=[\"ID\"]\n",
    "    num_class = 2\n",
    "    num_round = 200\n",
    "    learn_rate = 0.02\n",
    "    max_depth = 8\n",
    "\n",
    "    ## Parse data into a Pandas Frame\n",
    "    t_start = time.time()\n",
    "    df = pd.read_csv(path)\n",
    "    if drop_cols is not None:\n",
    "        df = df.drop(drop_cols, axis=1)\n",
    "    print(\"Time to parse by Pandas (sec): \", time.time() - t_start)\n",
    "\n",
    "    df_target = df[target]\n",
    "    df = df.drop(target, axis=1)\n",
    "    cols = df.columns.values\n",
    "    df.shape\n",
    "if False:\n",
    "    ## Airline dataset\n",
    "    ## https://s3.amazonaws.com/h2o-public-test-data/bigdata/laptop/airlines_all.05p.csv\"\n",
    "    path = \"/home/arno/h2o-3/bigdata/laptop/airlines_all.05p.csv\"\n",
    "    target = \"IsDepDelayed\"\n",
    "    trainrows=3000000\n",
    "    drop_cols=['ArrTime','DepTime','ActualElapsedTime','AirTime','ArrDelay',\n",
    "               'DepDelay','TaxiIn', 'TaxiOut', 'Cancelled',\n",
    "               'CancellationCode', 'Diverted', 'CarrierDelay', \n",
    "              'WeatherDelay', 'NASDelay', 'SecurityDelay', 'TailNum',\n",
    "              'LateAircraftDelay', 'IsArrDelayed']\n",
    "    header = None\n",
    "    num_round = 100\n",
    "    learn_rate = 0.02\n",
    "    max_depth = 8\n",
    "    num_class = 2\n",
    "\n",
    "    ## Parse data into a Pandas Frame\n",
    "    t_start = time.time()\n",
    "    df = pd.read_csv(path,encoding= \"ISO-8859-1\")\n",
    "    if drop_cols is not None:\n",
    "        df = df.drop(drop_cols, axis=1)\n",
    "    print(\"Time to parse by Pandas (sec): \", time.time() - t_start)\n",
    "\n",
    "    df_target = df[target].replace(('YES', 'NO'), (1, 0))\n",
    "    df = df.drop(target, axis=1)\n",
    "    cols = df.columns.values\n",
    "    df.shape\n",
    "\n",
    "    from sklearn import preprocessing\n",
    "    catcols = df.select_dtypes(include=['object'])\n",
    "    cc = [x for x in list(catcols.columns)]\n",
    "    for f in cc:\n",
    "        df[f] = preprocessing.LabelEncoder().fit_transform(list(df[f].values))\n",
    "if True:\n",
    "    ## Airline dataset\n",
    "    path = \"/home/arno/ipums_2000-2015_head4M.csv\"\n",
    "    target = \"INCEARN\"\n",
    "    trainrows=3000000\n",
    "    drop_cols=[]\n",
    "    num_round = 100\n",
    "    learn_rate = 0.02\n",
    "    max_depth = 8\n",
    "    num_class = 1\n",
    "\n",
    "    ## Parse data into a Pandas Frame\n",
    "    if not os.path.exists(\"census.feather\"):\n",
    "        t_start = time.time()\n",
    "        df = pd.read_csv(path,encoding= \"ISO-8859-1\")\n",
    "        if drop_cols is not None:\n",
    "            df = df.drop(drop_cols, axis=1)\n",
    "        print(\"Time to parse by Pandas (sec): \", time.time() - t_start)\n",
    "        ft.write_dataframe(df, 'census.feather')\n",
    "    else:\n",
    "        df = ft.read_dataframe('census.feather')\n",
    "    df_target = df[target]\n",
    "    df = df.drop(target, axis=1)\n",
    "    cols = df.columns.values\n",
    "    df.shape\n",
    "\n",
    "    from sklearn import preprocessing\n",
    "    catcols = df.select_dtypes(include=['object'])\n",
    "    cc = [x for x in list(catcols.columns)]\n",
    "    for f in cc:\n",
    "        df[f] = preprocessing.LabelEncoder().fit_transform(list(df[f].values))"
   ]
  },
  {
   "cell_type": "code",
   "execution_count": 4,
   "metadata": {
    "collapsed": false,
    "deletable": true,
    "editable": true
   },
   "outputs": [
    {
     "name": "stderr",
     "output_type": "stream",
     "text": [
      "/home/arno/.pyenv/versions/3.6.0/lib/python3.6/json/encoder.py:199: DeprecationWarning: Interpreting naive datetime as local 2017-06-12 11:42:28.784932. Please add timezone info to timestamps.\n",
      "  chunks = self.iterencode(o, _one_shot=True)\n"
     ]
    }
   ],
   "source": [
    "train = df.iloc[:trainrows,:]\n",
    "test  = df.iloc[trainrows:,:]\n",
    "train_target = df_target.iloc[:trainrows].astype('float64')\n",
    "test_target  = df_target.iloc[trainrows:].astype('float64')"
   ]
  },
  {
   "cell_type": "code",
   "execution_count": 5,
   "metadata": {
    "collapsed": false,
    "deletable": true,
    "editable": true
   },
   "outputs": [
    {
     "name": "stdout",
     "output_type": "stream",
     "text": [
      "<class 'pandas.core.frame.DataFrame'>\n",
      "RangeIndex: 3000000 entries, 0 to 2999999\n",
      "Columns: 458 entries, RECTYPE to REPWTP80\n",
      "dtypes: float64(260), int64(198)\n",
      "memory usage: 10.2 GB\n",
      "None\n",
      "<class 'pandas.core.frame.DataFrame'>\n",
      "RangeIndex: 1000000 entries, 3000000 to 3999999\n",
      "Columns: 458 entries, RECTYPE to REPWTP80\n",
      "dtypes: float64(260), int64(198)\n",
      "memory usage: 3.4 GB\n",
      "None\n"
     ]
    },
    {
     "name": "stderr",
     "output_type": "stream",
     "text": [
      "/home/arno/.pyenv/versions/3.6.0/lib/python3.6/json/encoder.py:199: DeprecationWarning: Interpreting naive datetime as local 2017-06-12 11:42:33.164187. Please add timezone info to timestamps.\n",
      "  chunks = self.iterencode(o, _one_shot=True)\n"
     ]
    }
   ],
   "source": [
    "print(train.info())\n",
    "print(test.info())"
   ]
  },
  {
   "cell_type": "code",
   "execution_count": 6,
   "metadata": {
    "collapsed": false
   },
   "outputs": [
    {
     "name": "stdout",
     "output_type": "stream",
     "text": [
      "0            4000.0\n",
      "1           36700.0\n",
      "2           54000.0\n",
      "3             900.0\n",
      "4            2000.0\n",
      "5               0.0\n",
      "6            8000.0\n",
      "7            6100.0\n",
      "8            2800.0\n",
      "9           28000.0\n",
      "10              0.0\n",
      "11          11000.0\n",
      "12              0.0\n",
      "13          52000.0\n",
      "14         125000.0\n",
      "15              0.0\n",
      "16              0.0\n",
      "17          22001.0\n",
      "18              0.0\n",
      "19              0.0\n",
      "20          20000.0\n",
      "21          55000.0\n",
      "22          35000.0\n",
      "23          30000.0\n",
      "24         120000.0\n",
      "25              0.0\n",
      "26              0.0\n",
      "27           8400.0\n",
      "28           5000.0\n",
      "29              0.0\n",
      "             ...   \n",
      "2999970         0.0\n",
      "2999971         0.0\n",
      "2999972         0.0\n",
      "2999973     25000.0\n",
      "2999974      6000.0\n",
      "2999975         0.0\n",
      "2999976     40000.0\n",
      "2999977     22000.0\n",
      "2999978     70000.0\n",
      "2999979         0.0\n",
      "2999980         0.0\n",
      "2999981         0.0\n",
      "2999982     53000.0\n",
      "2999983     18000.0\n",
      "2999984         0.0\n",
      "2999985     45000.0\n",
      "2999986     45000.0\n",
      "2999987         0.0\n",
      "2999988         0.0\n",
      "2999989      2000.0\n",
      "2999990         0.0\n",
      "2999991         0.0\n",
      "2999992         0.0\n",
      "2999993         0.0\n",
      "2999994         0.0\n",
      "2999995     36400.0\n",
      "2999996     30000.0\n",
      "2999997     30000.0\n",
      "2999998    359000.0\n",
      "2999999     25000.0\n",
      "Name: INCEARN, dtype: float64\n",
      "3000000         0.0\n",
      "3000001         0.0\n",
      "3000002       500.0\n",
      "3000003     55500.0\n",
      "3000004         0.0\n",
      "3000005         0.0\n",
      "3000006     39000.0\n",
      "3000007     15200.0\n",
      "3000008     38400.0\n",
      "3000009      4000.0\n",
      "3000010      2600.0\n",
      "3000011         0.0\n",
      "3000012     40000.0\n",
      "3000013     40000.0\n",
      "3000014     25000.0\n",
      "3000015      5000.0\n",
      "3000016     40000.0\n",
      "3000017     20000.0\n",
      "3000018     15600.0\n",
      "3000019    196000.0\n",
      "3000020         0.0\n",
      "3000021     14800.0\n",
      "3000022      2700.0\n",
      "3000023     98000.0\n",
      "3000024     16000.0\n",
      "3000025     12700.0\n",
      "3000026      1400.0\n",
      "3000027         0.0\n",
      "3000028     40000.0\n",
      "3000029     35000.0\n",
      "             ...   \n",
      "3999970         0.0\n",
      "3999971         0.0\n",
      "3999972         0.0\n",
      "3999973     40000.0\n",
      "3999974     15300.0\n",
      "3999975         0.0\n",
      "3999976         0.0\n",
      "3999977         0.0\n",
      "3999978         0.0\n",
      "3999979     78000.0\n",
      "3999980         0.0\n",
      "3999981      6000.0\n",
      "3999982     45000.0\n",
      "3999983         0.0\n",
      "3999984         0.0\n",
      "3999985     10200.0\n",
      "3999986     15700.0\n",
      "3999987     20100.0\n",
      "3999988         0.0\n",
      "3999989         0.0\n",
      "3999990         0.0\n",
      "3999991     82200.0\n",
      "3999992         0.0\n",
      "3999993         0.0\n",
      "3999994         0.0\n",
      "3999995     86000.0\n",
      "3999996    215000.0\n",
      "3999997     14000.0\n",
      "3999998         0.0\n",
      "3999999         0.0\n",
      "Name: INCEARN, dtype: float64\n"
     ]
    },
    {
     "name": "stderr",
     "output_type": "stream",
     "text": [
      "/home/arno/.pyenv/versions/3.6.0/lib/python3.6/json/encoder.py:199: DeprecationWarning: Interpreting naive datetime as local 2017-06-12 11:42:33.259415. Please add timezone info to timestamps.\n",
      "  chunks = self.iterencode(o, _one_shot=True)\n"
     ]
    }
   ],
   "source": [
    "print(train_target)\n",
    "print(test_target)"
   ]
  },
  {
   "cell_type": "code",
   "execution_count": 7,
   "metadata": {
    "collapsed": false,
    "deletable": true,
    "editable": true
   },
   "outputs": [
    {
     "name": "stdout",
     "output_type": "stream",
     "text": [
      "Architecture:          x86_64\r\n",
      "CPU op-mode(s):        32-bit, 64-bit\r\n",
      "Byte Order:            Little Endian\r\n",
      "CPU(s):                40\r\n",
      "On-line CPU(s) list:   0-39\r\n",
      "Thread(s) per core:    2\r\n",
      "Core(s) per socket:    10\r\n",
      "Socket(s):             2\r\n",
      "NUMA node(s):          2\r\n",
      "Vendor ID:             GenuineIntel\r\n",
      "CPU family:            6\r\n",
      "Model:                 79\r\n",
      "Model name:            Intel(R) Xeon(R) CPU E5-2630 v4 @ 2.20GHz\r\n",
      "Stepping:              1\r\n",
      "CPU MHz:               2801.046\r\n",
      "CPU max MHz:           3100.0000\r\n",
      "CPU min MHz:           1200.0000\r\n",
      "BogoMIPS:              4401.54\r\n",
      "Virtualization:        VT-x\r\n",
      "L1d cache:             32K\r\n",
      "L1i cache:             32K\r\n",
      "L2 cache:              256K\r\n",
      "L3 cache:              25600K\r\n",
      "NUMA node0 CPU(s):     0-9,20-29\r\n",
      "NUMA node1 CPU(s):     10-19,30-39\r\n",
      "Flags:                 fpu vme de pse tsc msr pae mce cx8 apic sep mtrr pge mca cmov pat pse36 clflush dts acpi mmx fxsr sse sse2 ss ht tm pbe syscall nx pdpe1gb rdtscp lm constant_tsc arch_perfmon pebs bts rep_good nopl xtopology nonstop_tsc aperfmperf eagerfpu pni pclmulqdq dtes64 monitor ds_cpl vmx smx est tm2 ssse3 sdbg fma cx16 xtpr pdcm pcid dca sse4_1 sse4_2 x2apic movbe popcnt tsc_deadline_timer aes xsave avx f16c rdrand lahf_lm abm 3dnowprefetch epb intel_pt tpr_shadow vnmi flexpriority ept vpid fsgsbase tsc_adjust bmi1 hle avx2 smep bmi2 erms invpcid rtm cqm rdseed adx smap xsaveopt cqm_llc cqm_occup_llc cqm_mbm_total cqm_mbm_local dtherm ida arat pln pts\r\n"
     ]
    },
    {
     "name": "stderr",
     "output_type": "stream",
     "text": [
      "/home/arno/.pyenv/versions/3.6.0/lib/python3.6/json/encoder.py:199: DeprecationWarning: Interpreting naive datetime as local 2017-06-12 11:42:33.327155. Please add timezone info to timestamps.\n",
      "  chunks = self.iterencode(o, _one_shot=True)\n"
     ]
    }
   ],
   "source": [
    "!lscpu"
   ]
  },
  {
   "cell_type": "code",
   "execution_count": 8,
   "metadata": {
    "collapsed": false,
    "deletable": true,
    "editable": true,
    "scrolled": true
   },
   "outputs": [
    {
     "name": "stdout",
     "output_type": "stream",
     "text": [
      "MemTotal:       264019760 kB\r\n"
     ]
    },
    {
     "name": "stderr",
     "output_type": "stream",
     "text": [
      "/home/arno/.pyenv/versions/3.6.0/lib/python3.6/json/encoder.py:199: DeprecationWarning: Interpreting naive datetime as local 2017-06-12 11:42:33.507504. Please add timezone info to timestamps.\n",
      "  chunks = self.iterencode(o, _one_shot=True)\n"
     ]
    }
   ],
   "source": [
    "!cat /proc/meminfo | grep MemTotal"
   ]
  },
  {
   "cell_type": "code",
   "execution_count": 9,
   "metadata": {
    "collapsed": false,
    "deletable": true,
    "editable": true
   },
   "outputs": [
    {
     "name": "stdout",
     "output_type": "stream",
     "text": [
      "GPU 0: GeForce GTX 1080 Ti (UUID: GPU-0eb406e1-1e7d-372f-c655-06fb94be3ea1)\r\n",
      "GPU 1: GeForce GTX 1080 Ti (UUID: GPU-00bd4213-ce77-bfb8-012f-6600b2b105fa)\r\n"
     ]
    },
    {
     "name": "stderr",
     "output_type": "stream",
     "text": [
      "/home/arno/.pyenv/versions/3.6.0/lib/python3.6/json/encoder.py:199: DeprecationWarning: Interpreting naive datetime as local 2017-06-12 11:42:33.700346. Please add timezone info to timestamps.\n",
      "  chunks = self.iterencode(o, _one_shot=True)\n"
     ]
    }
   ],
   "source": [
    "!nvidia-smi -L"
   ]
  },
  {
   "cell_type": "code",
   "execution_count": 10,
   "metadata": {
    "collapsed": false,
    "deletable": true,
    "editable": true
   },
   "outputs": [
    {
     "name": "stdout",
     "output_type": "stream",
     "text": [
      "Mon Jun 12 11:42:33 2017       \r\n",
      "+-----------------------------------------------------------------------------+\r\n",
      "| NVIDIA-SMI 381.09                 Driver Version: 381.09                    |\r\n",
      "|-------------------------------+----------------------+----------------------+\r\n",
      "| GPU  Name        Persistence-M| Bus-Id        Disp.A | Volatile Uncorr. ECC |\r\n",
      "| Fan  Temp  Perf  Pwr:Usage/Cap|         Memory-Usage | GPU-Util  Compute M. |\r\n",
      "|===============================+======================+======================|\r\n",
      "|   0  GeForce GTX 108...  Off  | 0000:02:00.0      On |                  N/A |\r\n",
      "| 29%   47C    P8    23W / 250W |    725MiB / 11172MiB |     34%      Default |\r\n",
      "+-------------------------------+----------------------+----------------------+\r\n",
      "|   1  GeForce GTX 108...  Off  | 0000:81:00.0     Off |                  N/A |\r\n",
      "| 25%   42C    P8    18W / 250W |      2MiB / 11172MiB |      0%      Default |\r\n",
      "+-------------------------------+----------------------+----------------------+\r\n",
      "                                                                               \r\n",
      "+-----------------------------------------------------------------------------+\r\n",
      "| Processes:                                                       GPU Memory |\r\n",
      "|  GPU       PID  Type  Process name                               Usage      |\r\n",
      "|=============================================================================|\r\n",
      "|    0      1453    G   /usr/lib/xorg/Xorg                             531MiB |\r\n",
      "|    0     12617    G   compiz                                         126MiB |\r\n",
      "|    0     22217    G   ...el-token=C80A925098C60E8EF0CC9CE034DB6BE9    64MiB |\r\n",
      "+-----------------------------------------------------------------------------+\r\n"
     ]
    },
    {
     "name": "stderr",
     "output_type": "stream",
     "text": [
      "/home/arno/.pyenv/versions/3.6.0/lib/python3.6/json/encoder.py:199: DeprecationWarning: Interpreting naive datetime as local 2017-06-12 11:42:33.895809. Please add timezone info to timestamps.\n",
      "  chunks = self.iterencode(o, _one_shot=True)\n"
     ]
    }
   ],
   "source": [
    "!nvidia-smi"
   ]
  },
  {
   "cell_type": "code",
   "execution_count": 14,
   "metadata": {
    "collapsed": false,
    "deletable": true,
    "editable": true
   },
   "outputs": [
    {
     "name": "stderr",
     "output_type": "stream",
     "text": [
      "/home/arno/.pyenv/versions/3.6.0/lib/python3.6/json/encoder.py:199: DeprecationWarning: Interpreting naive datetime as local 2017-06-12 11:54:02.431175. Please add timezone info to timestamps.\n",
      "  chunks = self.iterencode(o, _one_shot=True)\n"
     ]
    }
   ],
   "source": [
    "def runXGBoost(param):\n",
    "    have_updater = \"updater\" in param.keys()\n",
    "    label = \"XGBoost \" \\\n",
    "        + (\"GPU hist\" if have_updater and param[\"updater\"]==\"grow_gpu_hist\" else \"GPU exact\" if have_updater and param[\"updater\"]==\"grow_gpu\" else \"CPU\") \\\n",
    "        + \" \" + (param[\"tree_method\"] if \"updater\" not in param.keys() else \"\")\n",
    "    print(label)\n",
    "    print(\"=====================\")\n",
    "    for k, v in param.items():\n",
    "        print(k, v)\n",
    "    print(\"=====================\")\n",
    "    \n",
    "    t_start = time.time()\n",
    "    dtrain = xgb.DMatrix(train.values, label = train_target.values, feature_names=[str(c) for c in cols])\n",
    "    dtest  = xgb.DMatrix(test.values,  label = test_target.values,  feature_names=[str(c) for c in cols])\n",
    "    tt = time.time() - t_start\n",
    "    print(\"Time to create DMatrix (sec): \", tt)\n",
    "    dmatrix_times.append(tt)\n",
    "    \n",
    "    t_start = time.time()\n",
    "    bst = xgb.train(param, dtrain, num_round)\n",
    "    tt = time.time() - t_start\n",
    "    print(\"Time to train (sec): \", tt)\n",
    "    train_times.append(tt)\n",
    "\n",
    "    t_start = time.time()\n",
    "    preds = bst.predict(dtest)\n",
    "    tt = time.time() - t_start\n",
    "    print(\"Time to predict (sec): \", tt)\n",
    "    score_times.append(tt)\n",
    "\n",
    "    labels = dtest.get_label()\n",
    "    #auc = metrics.roc_auc_score(labels, preds)\n",
    "    #print(\"AUC:\", auc)\n",
    "    rmse = np.sqrt(metrics.mean_squared_error(labels, preds))\n",
    "    print(\"RMSE:\", rmse)\n",
    "    valid_metrics.append(rmse)\n",
    "    plot_labels.append(label)\n",
    "    \n",
    "    fs = bst.get_fscore()\n",
    "    \n",
    "    # Optional: Uncomment to show variable importance\n",
    "    #varimp = pd.DataFrame({'Importance': list(fs.values()), 'Feature': list(fs.keys())})\n",
    "    #varimp.sort_values(by = 'Importance', inplace = True, ascending = False)\n",
    "    #varimp.head(10).plot(label='importance',kind=\"barh\",x=\"Feature\",y=\"Importance\").invert_yaxis()"
   ]
  },
  {
   "cell_type": "code",
   "execution_count": 15,
   "metadata": {
    "collapsed": false,
    "deletable": true,
    "editable": true
   },
   "outputs": [
    {
     "name": "stderr",
     "output_type": "stream",
     "text": [
      "/home/arno/.pyenv/versions/3.6.0/lib/python3.6/json/encoder.py:199: DeprecationWarning: Interpreting naive datetime as local 2017-06-12 11:54:04.956264. Please add timezone info to timestamps.\n",
      "  chunks = self.iterencode(o, _one_shot=True)\n"
     ]
    }
   ],
   "source": [
    "valid_metrics = []\n",
    "dmatrix_times = []\n",
    "train_times = []\n",
    "score_times = []\n",
    "plot_labels = []"
   ]
  },
  {
   "cell_type": "code",
   "execution_count": 16,
   "metadata": {
    "collapsed": false,
    "deletable": true,
    "editable": true,
    "scrolled": false
   },
   "outputs": [
    {
     "name": "stdout",
     "output_type": "stream",
     "text": [
      "XGBoost CPU exact\n",
      "=====================\n",
      "objective reg:linear\n",
      "max_depth 8\n",
      "eta 0.02\n",
      "tree_method exact\n",
      "subsample 0.7\n",
      "colsample_bytree 0.9\n",
      "min_child_weight 5\n",
      "seed 12345\n",
      "=====================\n",
      "Time to create DMatrix (sec):  29.76869821548462\n",
      "Time to train (sec):  309.84131360054016\n",
      "Time to predict (sec):  0.29718947410583496\n",
      "RMSE: 5392.3\n"
     ]
    },
    {
     "name": "stderr",
     "output_type": "stream",
     "text": [
      "/home/arno/.pyenv/versions/3.6.0/lib/python3.6/json/encoder.py:199: DeprecationWarning: Interpreting naive datetime as local 2017-06-12 11:54:05.794822. Please add timezone info to timestamps.\n",
      "  chunks = self.iterencode(o, _one_shot=True)\n"
     ]
    }
   ],
   "source": [
    "param = {\n",
    "    \"objective\":('reg:logistic' if num_class>1 else 'reg:linear')\n",
    "    , \"max_depth\":max_depth\n",
    "    , \"eta\":learn_rate\n",
    "    , \"tree_method\":\"exact\"\n",
    "    , \"subsample\":0.7\n",
    "    , \"colsample_bytree\":0.9\n",
    "    , \"min_child_weight\":5\n",
    "    , \"seed\":12345\n",
    "}\n",
    "runXGBoost(param)"
   ]
  },
  {
   "cell_type": "code",
   "execution_count": 17,
   "metadata": {
    "collapsed": false,
    "deletable": true,
    "editable": true,
    "scrolled": true
   },
   "outputs": [
    {
     "name": "stdout",
     "output_type": "stream",
     "text": [
      "XGBoost CPU approx\n",
      "=====================\n",
      "objective reg:linear\n",
      "max_depth 8\n",
      "eta 0.02\n",
      "tree_method approx\n",
      "subsample 0.7\n",
      "colsample_bytree 0.9\n",
      "min_child_weight 5\n",
      "seed 12345\n",
      "=====================\n",
      "Time to create DMatrix (sec):  31.78985571861267\n",
      "Time to train (sec):  546.1942541599274\n",
      "Time to predict (sec):  0.3009974956512451\n",
      "RMSE: 7092.1\n"
     ]
    },
    {
     "name": "stderr",
     "output_type": "stream",
     "text": [
      "/home/arno/.pyenv/versions/3.6.0/lib/python3.6/json/encoder.py:199: DeprecationWarning: Interpreting naive datetime as local 2017-06-12 12:18:44.460901. Please add timezone info to timestamps.\n",
      "  chunks = self.iterencode(o, _one_shot=True)\n"
     ]
    }
   ],
   "source": [
    "param = {\n",
    "    \"objective\":('reg:logistic' if num_class>1 else 'reg:linear')\n",
    "    , \"max_depth\":max_depth\n",
    "    , \"eta\":learn_rate\n",
    "    , \"tree_method\":\"approx\"\n",
    "    , \"subsample\":0.7\n",
    "    , \"colsample_bytree\":0.9\n",
    "    , \"min_child_weight\":5\n",
    "    , \"seed\":12345\n",
    "}\n",
    "runXGBoost(param)"
   ]
  },
  {
   "cell_type": "code",
   "execution_count": 18,
   "metadata": {
    "collapsed": false,
    "deletable": true,
    "editable": true
   },
   "outputs": [
    {
     "name": "stdout",
     "output_type": "stream",
     "text": [
      "XGBoost CPU hist\n",
      "=====================\n",
      "objective reg:linear\n",
      "max_depth 8\n",
      "eta 0.02\n",
      "tree_method hist\n",
      "subsample 0.7\n",
      "colsample_bytree 0.9\n",
      "min_child_weight 5\n",
      "seed 12345\n",
      "=====================\n",
      "Time to create DMatrix (sec):  30.065998315811157\n",
      "Time to train (sec):  117.09656357765198\n",
      "Time to predict (sec):  0.26148295402526855\n",
      "RMSE: 5697.77\n"
     ]
    },
    {
     "name": "stderr",
     "output_type": "stream",
     "text": [
      "/home/arno/.pyenv/versions/3.6.0/lib/python3.6/json/encoder.py:199: DeprecationWarning: Interpreting naive datetime as local 2017-06-12 12:28:22.934896. Please add timezone info to timestamps.\n",
      "  chunks = self.iterencode(o, _one_shot=True)\n"
     ]
    }
   ],
   "source": [
    "param = {\n",
    "    \"objective\":('reg:logistic' if num_class>1 else 'reg:linear')\n",
    "    , \"max_depth\":max_depth\n",
    "    , \"eta\":learn_rate\n",
    "    , \"tree_method\":\"hist\"\n",
    "    , \"subsample\":0.7\n",
    "    , \"colsample_bytree\":0.9\n",
    "    , \"min_child_weight\":5\n",
    "    , \"seed\":12345\n",
    "}\n",
    "runXGBoost(param)"
   ]
  },
  {
   "cell_type": "code",
   "execution_count": 35,
   "metadata": {
    "collapsed": false,
    "deletable": true,
    "editable": true,
    "scrolled": true
   },
   "outputs": [
    {
     "name": "stderr",
     "output_type": "stream",
     "text": [
      "/home/arno/.pyenv/versions/3.6.0/lib/python3.6/json/encoder.py:199: DeprecationWarning: Interpreting naive datetime as local 2017-06-12 13:48:41.611439. Please add timezone info to timestamps.\n",
      "  chunks = self.iterencode(o, _one_shot=True)\n"
     ]
    }
   ],
   "source": [
    "param = {\n",
    "    \"objective\":('reg:logistic' if num_class>1 else 'reg:linear')\n",
    "    , \"max_depth\":max_depth\n",
    "    , \"eta\":learn_rate\n",
    "    , \"tree_method\":\"exact\"\n",
    "    , \"updater\":\"grow_gpu\"\n",
    "    , \"subsample\":0.7\n",
    "    , \"colsample_bytree\":0.9\n",
    "    , \"min_child_weight\":5\n",
    "    , \"seed\":12345\n",
    "}\n",
    "#runXGBoost(param) ## doesn't fit into 1 GPU"
   ]
  },
  {
   "cell_type": "code",
   "execution_count": 20,
   "metadata": {
    "collapsed": false,
    "deletable": true,
    "editable": true,
    "scrolled": false
   },
   "outputs": [
    {
     "name": "stdout",
     "output_type": "stream",
     "text": [
      "XGBoost GPU hist \n",
      "=====================\n",
      "objective reg:linear\n",
      "max_depth 8\n",
      "eta 0.02\n",
      "tree_method exact\n",
      "updater grow_gpu_hist\n",
      "subsample 0.7\n",
      "colsample_bytree 0.9\n",
      "min_child_weight 5\n",
      "seed 12345\n",
      "=====================\n",
      "Time to create DMatrix (sec):  29.922317266464233\n",
      "Time to train (sec):  48.854469537734985\n",
      "Time to predict (sec):  0.2641565799713135\n",
      "RMSE: 8898.43\n"
     ]
    },
    {
     "name": "stderr",
     "output_type": "stream",
     "text": [
      "/home/arno/.pyenv/versions/3.6.0/lib/python3.6/json/encoder.py:199: DeprecationWarning: Interpreting naive datetime as local 2017-06-12 12:33:04.048424. Please add timezone info to timestamps.\n",
      "  chunks = self.iterencode(o, _one_shot=True)\n"
     ]
    }
   ],
   "source": [
    "param = {\n",
    "    \"objective\":('reg:logistic' if num_class>1 else 'reg:linear')\n",
    "    , \"max_depth\":max_depth\n",
    "    , \"eta\":learn_rate\n",
    "    , \"tree_method\":\"exact\"\n",
    "    , \"updater\":\"grow_gpu_hist\"\n",
    "    , \"subsample\":0.7\n",
    "    , \"colsample_bytree\":0.9\n",
    "    , \"min_child_weight\":5\n",
    "    , \"seed\":12345\n",
    "}\n",
    "runXGBoost(param)"
   ]
  },
  {
   "cell_type": "code",
   "execution_count": 31,
   "metadata": {
    "collapsed": false
   },
   "outputs": [
    {
     "name": "stdout",
     "output_type": "stream",
     "text": [
      "XGBoost GPU hist \n",
      "=====================\n",
      "objective reg:linear\n",
      "max_depth 8\n",
      "eta 0.02\n",
      "tree_method exact\n",
      "updater grow_gpu_hist\n",
      "subsample 0.7\n",
      "colsample_bytree 0.9\n",
      "min_child_weight 5\n",
      "seed 12345\n",
      "n_gpu 1\n",
      "=====================\n",
      "Time to create DMatrix (sec):  28.56476593017578\n",
      "Time to train (sec):  47.61861610412598\n",
      "Time to predict (sec):  0.27228498458862305\n",
      "RMSE: 8836.8\n"
     ]
    },
    {
     "name": "stderr",
     "output_type": "stream",
     "text": [
      "/home/arno/.pyenv/versions/3.6.0/lib/python3.6/json/encoder.py:199: DeprecationWarning: Interpreting naive datetime as local 2017-06-12 12:37:34.033186. Please add timezone info to timestamps.\n",
      "  chunks = self.iterencode(o, _one_shot=True)\n"
     ]
    }
   ],
   "source": [
    "param = {\n",
    "    \"objective\":('reg:logistic' if num_class>1 else 'reg:linear')\n",
    "    , \"max_depth\":max_depth\n",
    "    , \"eta\":learn_rate\n",
    "    , \"tree_method\":\"exact\"\n",
    "    , \"updater\":\"grow_gpu_hist\"\n",
    "    , \"subsample\":0.7\n",
    "    , \"colsample_bytree\":0.9\n",
    "    , \"min_child_weight\":5\n",
    "    , \"seed\":12345\n",
    "    , \"n_gpu\":1\n",
    "}\n",
    "runXGBoost(param)"
   ]
  },
  {
   "cell_type": "code",
   "execution_count": 32,
   "metadata": {
    "collapsed": false,
    "deletable": true,
    "editable": true,
    "scrolled": false
   },
   "outputs": [
    {
     "data": {
      "text/html": [
       "<div>\n",
       "<table border=\"1\" class=\"dataframe\">\n",
       "  <thead>\n",
       "    <tr style=\"text-align: right;\">\n",
       "      <th></th>\n",
       "      <th>algorithm</th>\n",
       "      <th>dmatrix time</th>\n",
       "      <th>scoring time</th>\n",
       "      <th>training time</th>\n",
       "      <th>validation metric</th>\n",
       "    </tr>\n",
       "  </thead>\n",
       "  <tbody>\n",
       "    <tr>\n",
       "      <th>4</th>\n",
       "      <td>XGBoost GPU hist</td>\n",
       "      <td>28.564766</td>\n",
       "      <td>0.272285</td>\n",
       "      <td>47.618616</td>\n",
       "      <td>8836.801758</td>\n",
       "    </tr>\n",
       "    <tr>\n",
       "      <th>3</th>\n",
       "      <td>XGBoost GPU hist</td>\n",
       "      <td>31.141697</td>\n",
       "      <td>0.264157</td>\n",
       "      <td>48.854470</td>\n",
       "      <td>8898.433594</td>\n",
       "    </tr>\n",
       "    <tr>\n",
       "      <th>2</th>\n",
       "      <td>XGBoost CPU hist</td>\n",
       "      <td>30.065998</td>\n",
       "      <td>0.261483</td>\n",
       "      <td>117.096564</td>\n",
       "      <td>5697.774414</td>\n",
       "    </tr>\n",
       "    <tr>\n",
       "      <th>0</th>\n",
       "      <td>XGBoost CPU exact</td>\n",
       "      <td>29.768698</td>\n",
       "      <td>0.297189</td>\n",
       "      <td>309.841314</td>\n",
       "      <td>5392.304688</td>\n",
       "    </tr>\n",
       "    <tr>\n",
       "      <th>1</th>\n",
       "      <td>XGBoost CPU approx</td>\n",
       "      <td>31.789856</td>\n",
       "      <td>0.300997</td>\n",
       "      <td>546.194254</td>\n",
       "      <td>7092.096680</td>\n",
       "    </tr>\n",
       "  </tbody>\n",
       "</table>\n",
       "</div>"
      ],
      "text/plain": [
       "            algorithm  dmatrix time  scoring time  training time  \\\n",
       "4   XGBoost GPU hist      28.564766      0.272285      47.618616   \n",
       "3   XGBoost GPU hist      31.141697      0.264157      48.854470   \n",
       "2    XGBoost CPU hist     30.065998      0.261483     117.096564   \n",
       "0   XGBoost CPU exact     29.768698      0.297189     309.841314   \n",
       "1  XGBoost CPU approx     31.789856      0.300997     546.194254   \n",
       "\n",
       "   validation metric  \n",
       "4        8836.801758  \n",
       "3        8898.433594  \n",
       "2        5697.774414  \n",
       "0        5392.304688  \n",
       "1        7092.096680  "
      ]
     },
     "execution_count": 32,
     "metadata": {},
     "output_type": "execute_result"
    },
    {
     "name": "stderr",
     "output_type": "stream",
     "text": [
      "/home/arno/.pyenv/versions/3.6.0/lib/python3.6/json/encoder.py:199: DeprecationWarning: Interpreting naive datetime as local 2017-06-12 13:09:50.668414. Please add timezone info to timestamps.\n",
      "  chunks = self.iterencode(o, _one_shot=True)\n"
     ]
    }
   ],
   "source": [
    "data = pd.DataFrame({'algorithm'  :plot_labels,\n",
    "                     'dmatrix time':dmatrix_times,\n",
    "                     'training time':train_times,\n",
    "                     'scoring time':score_times,\n",
    "                     'validation metric' :valid_metrics}).sort_values(by=\"training time\")\n",
    "data"
   ]
  },
  {
   "cell_type": "code",
   "execution_count": 33,
   "metadata": {
    "collapsed": false,
    "deletable": true,
    "editable": true
   },
   "outputs": [
    {
     "data": {
      "text/plain": [
       "<matplotlib.axes._subplots.AxesSubplot at 0x7fbf0e72e8d0>"
      ]
     },
     "execution_count": 33,
     "metadata": {},
     "output_type": "execute_result"
    },
    {
     "data": {
      "image/png": "[encoded data removed]",
      "text/plain": [
       "<matplotlib.figure.Figure at 0x7fc2e1008908>"
      ]
     },
     "metadata": {},
     "output_type": "display_data"
    },
    {
     "data": {
      "image/png": "[encoded data removed]",
      "text/plain": [
       "<matplotlib.figure.Figure at 0x7fc2e101f518>"
      ]
     },
     "metadata": {},
     "output_type": "display_data"
    },
    {
     "data": {
      "image/png": "[encoded data removed]",
      "text/plain": [
       "<matplotlib.figure.Figure at 0x7fbf0e7ca828>"
      ]
     },
     "metadata": {},
     "output_type": "display_data"
    },
    {
     "name": "stderr",
     "output_type": "stream",
     "text": [
      "/home/arno/.pyenv/versions/3.6.0/lib/python3.6/json/encoder.py:199: DeprecationWarning: Interpreting naive datetime as local 2017-06-12 13:10:09.326889. Please add timezone info to timestamps.\n",
      "  chunks = self.iterencode(o, _one_shot=True)\n"
     ]
    }
   ],
   "source": [
    "data.plot(label=\"training time\",kind='barh',x='algorithm',y='training time')\n",
    "data.plot(title=\"validation metric\",kind='barh',x='algorithm',y='validation metric',legend=False)\n",
    "data.plot(label=\"dmatrix time\",kind='barh',x='algorithm',y='dmatrix time')"
   ]
  },
  {
   "cell_type": "markdown",
   "metadata": {
    "deletable": true,
    "editable": true
   },
   "source": [
    "## Now call XGBoost from H2O"
   ]
  },
  {
   "cell_type": "code",
   "execution_count": 34,
   "metadata": {
    "collapsed": false,
    "deletable": true,
    "editable": true,
    "scrolled": false
   },
   "outputs": [
    {
     "name": "stdout",
     "output_type": "stream",
     "text": [
      "Checking whether there is an H2O instance running at http://localhost:54321..... not found.\n",
      "Attempting to start a local H2O server...\n",
      "  Java Version: java version \"1.8.0_101\"; Java(TM) SE Runtime Environment (build 1.8.0_101-b13); Java HotSpot(TM) 64-Bit Server VM (build 25.101-b13, mixed mode)\n",
      "  Starting server from /home/arno/.pyenv/versions/3.6.0/envs/h2oai/lib/python3.6/site-packages/h2o/backend/bin/h2o.jar\n",
      "  Ice root: /tmp/tmpsev111gz\n",
      "  JVM stdout: /tmp/tmpsev111gz/h2o_arno_started_from_python.out\n",
      "  JVM stderr: /tmp/tmpsev111gz/h2o_arno_started_from_python.err\n",
      "  Server is running at http://127.0.0.1:54321\n",
      "Connecting to H2O server at http://127.0.0.1:54321... successful.\n"
     ]
    },
    {
     "data": {
      "text/html": [
       "<div style=\"overflow:auto\"><table style=\"width:50%\"><tr><td>H2O cluster uptime:</td>\n",
       "<td>05 secs</td></tr>\n",
       "<tr><td>H2O cluster version:</td>\n",
       "<td>3.11.0.266</td></tr>\n",
       "<tr><td>H2O cluster version age:</td>\n",
       "<td>13 days </td></tr>\n",
       "<tr><td>H2O cluster name:</td>\n",
       "<td>H2O_from_python_arno_yp2esb</td></tr>\n",
       "<tr><td>H2O cluster total nodes:</td>\n",
       "<td>1</td></tr>\n",
       "<tr><td>H2O cluster free memory:</td>\n",
       "<td>26.67 Gb</td></tr>\n",
       "<tr><td>H2O cluster total cores:</td>\n",
       "<td>40</td></tr>\n",
       "<tr><td>H2O cluster allowed cores:</td>\n",
       "<td>40</td></tr>\n",
       "<tr><td>H2O cluster status:</td>\n",
       "<td>accepting new members, healthy</td></tr>\n",
       "<tr><td>H2O connection url:</td>\n",
       "<td>http://127.0.0.1:54321</td></tr>\n",
       "<tr><td>H2O connection proxy:</td>\n",
       "<td>None</td></tr>\n",
       "<tr><td>H2O internal security:</td>\n",
       "<td>False</td></tr>\n",
       "<tr><td>Python version:</td>\n",
       "<td>3.6.0 final</td></tr></table></div>"
      ],
      "text/plain": [
       "--------------------------  ------------------------------\n",
       "H2O cluster uptime:         05 secs\n",
       "H2O cluster version:        3.11.0.266\n",
       "H2O cluster version age:    13 days\n",
       "H2O cluster name:           H2O_from_python_arno_yp2esb\n",
       "H2O cluster total nodes:    1\n",
       "H2O cluster free memory:    26.67 Gb\n",
       "H2O cluster total cores:    40\n",
       "H2O cluster allowed cores:  40\n",
       "H2O cluster status:         accepting new members, healthy\n",
       "H2O connection url:         http://127.0.0.1:54321\n",
       "H2O connection proxy:\n",
       "H2O internal security:      False\n",
       "Python version:             3.6.0 final\n",
       "--------------------------  ------------------------------"
      ]
     },
     "metadata": {},
     "output_type": "display_data"
    },
    {
     "name": "stdout",
     "output_type": "stream",
     "text": [
      "Parse progress: |█████████████████████████████████████████████████████████| 100%\n",
      "Time to parse by H2O (sec):  16.542898654937744\n"
     ]
    },
    {
     "name": "stderr",
     "output_type": "stream",
     "text": [
      "/home/arno/.pyenv/versions/3.6.0/lib/python3.6/json/encoder.py:199: DeprecationWarning: Interpreting naive datetime as local 2017-06-12 13:26:49.984875. Please add timezone info to timestamps.\n",
      "  chunks = self.iterencode(o, _one_shot=True)\n"
     ]
    }
   ],
   "source": [
    "import h2o\n",
    "from h2o.estimators import H2OXGBoostEstimator\n",
    "h2o.init()\n",
    "\n",
    "t_start = time.time()\n",
    "df_hex = h2o.import_file(path)\n",
    "print(\"Time to parse by H2O (sec): \", time.time() - t_start)\n",
    "\n",
    "for c in drop_cols:\n",
    "    df_hex = df_hex.drop(c, axis=1)\n",
    "\n",
    "## Note: Frame contains categorical columns\n",
    "## H2O internally handles them according to the 'categorical_encoding' parameter\n",
    "trainhex = df_hex[:trainrows,:]\n",
    "testhex  = df_hex[trainrows:,:]\n",
    "trainhex[target] = (trainhex[target]).asfactor()\n",
    "testhex[target] = (testhex[target]).asfactor()"
   ]
  },
  {
   "cell_type": "code",
   "execution_count": 36,
   "metadata": {
    "collapsed": false,
    "deletable": true,
    "editable": true
   },
   "outputs": [
    {
     "name": "stderr",
     "output_type": "stream",
     "text": [
      "/home/arno/.pyenv/versions/3.6.0/lib/python3.6/json/encoder.py:199: DeprecationWarning: Interpreting naive datetime as local 2017-06-12 13:49:00.636621. Please add timezone info to timestamps.\n",
      "  chunks = self.iterencode(o, _one_shot=True)\n"
     ]
    }
   ],
   "source": [
    "def runH2OXGBoost(param):\n",
    "    label = \"H2O XGBoost \" \\\n",
    "    + (\"GPU\" if \"backend\" in param.keys() and \"gpu\"==param[\"backend\"] else \"CPU\") \\\n",
    "    + (\" \" + param[\"tree_method\"] if \"tree_method\" in param.keys() else \"\")\n",
    "    print(label)\n",
    "    print(\"=====================\")\n",
    "    for k, v in param.items():\n",
    "        print(k, v)\n",
    "    print(\"=====================\")\n",
    "        \n",
    "    t_start = time.time()\n",
    "    model = H2OXGBoostEstimator(**param)\n",
    "    model.train(x = list(cols), y = target, training_frame = trainhex)\n",
    "    tt = time.time() - t_start\n",
    "    print(\"Time to train (sec): \", tt)\n",
    "    h2o_train_times.append(tt)\n",
    "\n",
    "    t_start = time.time()\n",
    "    preds = model.predict(testhex)[:,2]\n",
    "    tt = time.time() - t_start\n",
    "    print(\"Time to predict (sec): \", tt)\n",
    "    h2o_score_times.append(tt)\n",
    "\n",
    "    preds = h2o.as_list(preds)\n",
    "    labels = test_target.values\n",
    "    #auc = metrics.roc_auc_score(labels, preds)\n",
    "    #print(\"AUC:\", auc)\n",
    "    rmse = np.sqrt(metrics.mean_squared_error(labels, preds))\n",
    "    print(\"RMSE:\", rmse)\n",
    "    \n",
    "    h2o_valid_metrics.append(rmse)\n",
    "    h2o_plot_labels.append(label)\n",
    "    \n",
    "    #pd.DataFrame(model.varimp(),columns=[\"Feature\",\"\",\"Importance\",\"\"]).head(10).plot(label='importance',kind=\"barh\",x=\"Feature\",y=\"Importance\").invert_yaxis()    "
   ]
  },
  {
   "cell_type": "code",
   "execution_count": 37,
   "metadata": {
    "collapsed": false,
    "deletable": true,
    "editable": true
   },
   "outputs": [
    {
     "name": "stderr",
     "output_type": "stream",
     "text": [
      "/home/arno/.pyenv/versions/3.6.0/lib/python3.6/json/encoder.py:199: DeprecationWarning: Interpreting naive datetime as local 2017-06-12 13:49:02.850956. Please add timezone info to timestamps.\n",
      "  chunks = self.iterencode(o, _one_shot=True)\n"
     ]
    }
   ],
   "source": [
    "h2o_valid_metrics = []\n",
    "h2o_train_times = []\n",
    "h2o_score_times = []\n",
    "h2o_plot_labels = []"
   ]
  },
  {
   "cell_type": "code",
   "execution_count": null,
   "metadata": {
    "collapsed": false,
    "deletable": true,
    "editable": true
   },
   "outputs": [],
   "source": [
    "param = {\n",
    "    \"ntrees\":num_round\n",
    "    , \"max_depth\":max_depth\n",
    "    , \"eta\":learn_rate\n",
    "    , \"subsample\":0.7\n",
    "    , \"colsample_bytree\":0.9\n",
    "    , \"min_child_weight\":5\n",
    "    , \"seed\":12345\n",
    "    , \"score_tree_interval\":num_round\n",
    "    , \"backend\":\"cpu\"\n",
    "    , \"tree_method\":\"exact\"\n",
    "}\n",
    "runH2OXGBoost(param)"
   ]
  },
  {
   "cell_type": "code",
   "execution_count": null,
   "metadata": {
    "collapsed": false,
    "deletable": true,
    "editable": true
   },
   "outputs": [],
   "source": [
    "param = {\n",
    "    \"ntrees\":num_round\n",
    "    , \"max_depth\":max_depth\n",
    "    , \"eta\":learn_rate\n",
    "    , \"subsample\":0.7\n",
    "    , \"colsample_bytree\":0.9\n",
    "    , \"min_child_weight\":5\n",
    "    , \"seed\":12345\n",
    "    , \"score_tree_interval\":num_round\n",
    "    , \"backend\":\"cpu\"\n",
    "    , \"tree_method\":\"approx\"\n",
    "}\n",
    "runH2OXGBoost(param)"
   ]
  },
  {
   "cell_type": "code",
   "execution_count": null,
   "metadata": {
    "collapsed": false,
    "deletable": true,
    "editable": true,
    "scrolled": true
   },
   "outputs": [],
   "source": [
    "param = {\n",
    "    \"ntrees\":num_round\n",
    "    , \"max_depth\":max_depth\n",
    "    , \"eta\":learn_rate\n",
    "    , \"subsample\":0.7\n",
    "    , \"colsample_bytree\":0.9\n",
    "    , \"min_child_weight\":5\n",
    "    , \"seed\":12345\n",
    "    , \"score_tree_interval\":num_round\n",
    "    , \"backend\":\"cpu\"\n",
    "    , \"tree_method\":\"hist\"\n",
    "}\n",
    "runH2OXGBoost(param)"
   ]
  },
  {
   "cell_type": "code",
   "execution_count": null,
   "metadata": {
    "collapsed": false,
    "deletable": true,
    "editable": true,
    "scrolled": true
   },
   "outputs": [],
   "source": [
    "param = {\n",
    "    \"ntrees\":num_round\n",
    "    , \"max_depth\":max_depth\n",
    "    , \"learn_rate\":learn_rate\n",
    "    , \"sample_rate\":0.7\n",
    "    , \"col_sample_rate_per_tree\":0.9\n",
    "    , \"min_rows\":5\n",
    "    , \"seed\":12345\n",
    "    , \"score_tree_interval\":num_round\n",
    "    , \"backend\":\"gpu\"\n",
    "    , \"tree_method\":\"exact\"\n",
    "}\n",
    "runH2OXGBoost(param)"
   ]
  },
  {
   "cell_type": "code",
   "execution_count": null,
   "metadata": {
    "collapsed": false,
    "deletable": true,
    "editable": true
   },
   "outputs": [],
   "source": [
    "param = {\n",
    "    \"ntrees\":num_round\n",
    "    , \"max_depth\":max_depth\n",
    "    , \"learn_rate\":learn_rate\n",
    "    , \"sample_rate\":0.7\n",
    "    , \"col_sample_rate_per_tree\":0.9\n",
    "    , \"min_rows\":5\n",
    "    , \"seed\":12345\n",
    "    , \"score_tree_interval\":num_round\n",
    "    , \"backend\":\"gpu\"\n",
    "    , \"tree_method\":\"hist\"\n",
    "}\n",
    "runH2OXGBoost(param)"
   ]
  },
  {
   "cell_type": "markdown",
   "metadata": {
    "deletable": true,
    "editable": true
   },
   "source": [
    "## H2O GBM (CPU)"
   ]
  },
  {
   "cell_type": "code",
   "execution_count": null,
   "metadata": {
    "collapsed": false,
    "deletable": true,
    "editable": true
   },
   "outputs": [],
   "source": [
    "from h2o.estimators.gbm import H2OGradientBoostingEstimator\n",
    "param = {\n",
    "      \"ntrees\":num_round\n",
    "    , \"max_depth\":max_depth\n",
    "    , \"learn_rate\":learn_rate\n",
    "    , \"sample_rate\":0.7\n",
    "    , \"col_sample_rate_per_tree\":0.9\n",
    "    , \"min_rows\":5\n",
    "    , \"seed\":12345\n",
    "    , \"score_tree_interval\":num_round\n",
    "}\n",
    "\n",
    "t_start = time.time()\n",
    "model = H2OGradientBoostingEstimator(**param)\n",
    "model.train(x = list(cols), y = target, training_frame = trainhex)\n",
    "tt = time.time() - t_start\n",
    "print(\"Time to train (sec): \", tt)\n",
    "h2o_train_times.append(tt)\n",
    "\n",
    "t_start = time.time()\n",
    "preds = model.predict(testhex)[:,2]\n",
    "tt = time.time() - t_start\n",
    "print(\"Time to predict (sec): \", tt)\n",
    "h2o_score_times.append(tt)\n",
    "\n",
    "preds = h2o.as_list(preds)\n",
    "labels = test_target.values\n",
    "#auc = metrics.roc_auc_score(labels, preds)\n",
    "#print(\"AUC:\", auc)\n",
    "rmse = np.sqrt(metrics.mean_squared_error(labels, preds))\n",
    "print(\"RMSE:\", rmse)\n",
    "\n",
    "h2o_valid_aucs.append(auc)\n",
    "h2o_plot_labels.append(\"H2O GBM CPU\")\n",
    "\n",
    "# Show variable importance for the H2O GBM model\n",
    "#pd.DataFrame(model.varimp(),columns=[\"Feature\",\"\",\"Importance\",\"\"]).head(10).plot(label='importance',kind=\"barh\",x=\"Feature\",y=\"Importance\").invert_yaxis()"
   ]
  },
  {
   "cell_type": "code",
   "execution_count": null,
   "metadata": {
    "collapsed": false,
    "deletable": true,
    "editable": true,
    "scrolled": true
   },
   "outputs": [],
   "source": [
    "data = pd.DataFrame({'algorithm'  :h2o_plot_labels,\n",
    "                     'training time':h2o_train_times,\n",
    "                     'scoring time':h2o_score_times,\n",
    "                     'validation metric' :h2o_valid_metrics}).sort_values(by=\"training time\")\n",
    "data"
   ]
  },
  {
   "cell_type": "code",
   "execution_count": null,
   "metadata": {
    "collapsed": false,
    "deletable": true,
    "editable": true,
    "scrolled": false
   },
   "outputs": [],
   "source": [
    "data.plot(label=\"DMatrix + training time\",kind='barh',x='algorithm',y='training time')\n",
    "data.plot(title=\"validation metric\",kind='barh',x='algorithm',y='validation metric',legend=False)"
   ]
  }
 ],
 "metadata": {
  "anaconda-cloud": {},
  "kernelspec": {
   "display_name": "Python 3",
   "language": "python",
   "name": "python3"
  },
  "language_info": {
   "codemirror_mode": {
    "name": "ipython",
    "version": 3
   },
   "file_extension": ".py",
   "mimetype": "text/x-python",
   "name": "python",
   "nbconvert_exporter": "python",
   "pygments_lexer": "ipython3",
   "version": "3.6.0"
  }
 },
 "nbformat": 4,
 "nbformat_minor": 2
}

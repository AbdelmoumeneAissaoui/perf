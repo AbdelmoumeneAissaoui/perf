{
 "cells": [
  {
   "cell_type": "markdown",
   "metadata": {},
   "source": [
    "# H2O.ai XGBoost GPU Benchmarks"
   ]
  },
  {
   "cell_type": "markdown",
   "metadata": {},
   "source": [
    "In this notebook, we benchmark the latest version of [XGBoost](https://github.com/h2oai/xgboost), the well-known Kaggle-winning gradient boosting algorithm, and in particular, the [XGBoost GPU plugin](https://github.com/h2oai/xgboost/blob/master/plugin/updater_gpu/README.md)."
   ]
  },
  {
   "cell_type": "code",
   "execution_count": 26,
   "metadata": {
    "collapsed": true
   },
   "outputs": [],
   "source": [
    "## For comparison between 1 GPU and 1 CPU, we use only 1 CPU:\n",
    "#numactl --physcpubind=0 -C 0 --cpunodebind=0 -N 0 -m 0\n",
    "\n",
    "## This will ensure that we only use the first CPU on multi-CPU systems"
   ]
  },
  {
   "cell_type": "markdown",
   "metadata": {},
   "source": [
    "![1CPU](./1CPUonNUMA.png)"
   ]
  },
  {
   "cell_type": "code",
   "execution_count": 2,
   "metadata": {
    "collapsed": true
   },
   "outputs": [],
   "source": [
    "# First time only: install xgboost, and restart the kernel afterwards\n",
    "#import os\n",
    "#os.system(\"mkdir -p tmp && cd tmp && git clone https://github.com/h2oai/xgboost --recursive && cd xgboost && mkdir build && cd build && cmake .. -DPLUGIN_UPDATER_GPU=ON -DCUB_DIRECTORY=../cub -DCUDA_NVCC_FLAGS=\\\"--expt-extended-lambda -arch=sm_30\\\" && make -j; make; cd ../python-package && sudo python3.6 setup.py install\")"
   ]
  },
  {
   "cell_type": "code",
   "execution_count": 3,
   "metadata": {
    "collapsed": true
   },
   "outputs": [],
   "source": [
    "%matplotlib inline\n",
    "import xgboost as xgb\n",
    "import pandas as pd\n",
    "import numpy as np\n",
    "import scipy as sp\n",
    "import os\n",
    "import time\n",
    "from sklearn import metrics"
   ]
  },
  {
   "cell_type": "code",
   "execution_count": 4,
   "metadata": {
    "collapsed": true
   },
   "outputs": [],
   "source": [
    "#https://s3.amazonaws.com/h2o-public-test-data/bigdata/laptop/higgs_head_2M.csv\n",
    "path = \"/opt/higgs_head_2M.csv\"\n",
    "num_class = 2\n",
    "num_round = 100\n",
    "learn_rate = 0.02\n",
    "max_depth = 10\n",
    "\n",
    "## Parse data into a Pandas Frame\n",
    "df = pd.read_csv(path, header=None)"
   ]
  },
  {
   "cell_type": "code",
   "execution_count": 5,
   "metadata": {},
   "outputs": [
    {
     "data": {
      "text/plain": [
       "(2000000, 27)"
      ]
     },
     "execution_count": 5,
     "metadata": {},
     "output_type": "execute_result"
    }
   ],
   "source": [
    "df_target = df.iloc[:,0]\n",
    "df.drop(df.iloc[:,0], axis=1, inplace=True)\n",
    "cols = df.columns.values\n",
    "df.shape"
   ]
  },
  {
   "cell_type": "code",
   "execution_count": 6,
   "metadata": {
    "collapsed": true
   },
   "outputs": [],
   "source": [
    "train = df"
   ]
  },
  {
   "cell_type": "code",
   "execution_count": 7,
   "metadata": {
    "collapsed": true
   },
   "outputs": [],
   "source": [
    "train_target = df_target"
   ]
  },
  {
   "cell_type": "code",
   "execution_count": 8,
   "metadata": {},
   "outputs": [
    {
     "name": "stdout",
     "output_type": "stream",
     "text": [
      "(2000000, 27)\n"
     ]
    }
   ],
   "source": [
    "print(train.shape)"
   ]
  },
  {
   "cell_type": "code",
   "execution_count": 9,
   "metadata": {},
   "outputs": [
    {
     "name": "stdout",
     "output_type": "stream",
     "text": [
      "Architecture:          x86_64\r\n",
      "CPU op-mode(s):        32-bit, 64-bit\r\n",
      "Byte Order:            Little Endian\r\n",
      "CPU(s):                80\r\n",
      "On-line CPU(s) list:   0-79\r\n",
      "Thread(s) per core:    2\r\n",
      "Core(s) per socket:    20\r\n",
      "Socket(s):             2\r\n",
      "NUMA node(s):          2\r\n",
      "Vendor ID:             GenuineIntel\r\n",
      "CPU family:            6\r\n",
      "Model:                 79\r\n",
      "Model name:            Intel(R) Xeon(R) CPU E5-2698 v4 @ 2.20GHz\r\n",
      "Stepping:              1\r\n",
      "CPU MHz:               2201.000\r\n",
      "CPU max MHz:           2201.0000\r\n",
      "CPU min MHz:           1200.0000\r\n",
      "BogoMIPS:              4391.41\r\n",
      "Virtualization:        VT-x\r\n",
      "L1d cache:             32K\r\n",
      "L1i cache:             32K\r\n",
      "L2 cache:              256K\r\n",
      "L3 cache:              51200K\r\n",
      "NUMA node0 CPU(s):     0-19,40-59\r\n",
      "NUMA node1 CPU(s):     20-39,60-79\r\n",
      "Flags:                 fpu vme de pse tsc msr pae mce cx8 apic sep mtrr pge mca cmov pat pse36 clflush dts acpi mmx fxsr sse sse2 ss ht tm pbe syscall nx pdpe1gb rdtscp lm constant_tsc arch_perfmon pebs bts rep_good nopl xtopology nonstop_tsc aperfmperf eagerfpu pni pclmulqdq dtes64 monitor ds_cpl vmx smx est tm2 ssse3 sdbg fma cx16 xtpr pdcm pcid dca sse4_1 sse4_2 x2apic movbe popcnt tsc_deadline_timer aes xsave avx f16c rdrand lahf_lm abm 3dnowprefetch epb intel_pt tpr_shadow vnmi flexpriority ept vpid fsgsbase tsc_adjust bmi1 hle avx2 smep bmi2 erms invpcid rtm cqm rdseed adx smap xsaveopt cqm_llc cqm_occup_llc cqm_mbm_total cqm_mbm_local dtherm ida arat pln pts\r\n"
     ]
    }
   ],
   "source": [
    "!lscpu"
   ]
  },
  {
   "cell_type": "code",
   "execution_count": 10,
   "metadata": {
    "scrolled": true
   },
   "outputs": [
    {
     "name": "stdout",
     "output_type": "stream",
     "text": [
      "MemTotal:       528278376 kB\r\n"
     ]
    }
   ],
   "source": [
    "!cat /proc/meminfo | grep MemTotal"
   ]
  },
  {
   "cell_type": "code",
   "execution_count": 11,
   "metadata": {},
   "outputs": [
    {
     "name": "stdout",
     "output_type": "stream",
     "text": [
      "GPU 0: Tesla P100-SXM2-16GB (UUID: GPU-77864ed9-e817-3463-e5be-bf4c4c563a4c)\r\n",
      "GPU 1: Tesla P100-SXM2-16GB (UUID: GPU-e8ece262-f677-038f-5b40-6cc86f978487)\r\n",
      "GPU 2: Tesla P100-SXM2-16GB (UUID: GPU-7d996bf3-876b-1439-e447-ec8fb235fd98)\r\n",
      "GPU 3: Tesla P100-SXM2-16GB (UUID: GPU-151287c0-bb97-6f82-fedb-a88273ee5447)\r\n",
      "GPU 4: Tesla P100-SXM2-16GB (UUID: GPU-99c5cdb5-54b9-ccd2-eb51-a32850d37ebf)\r\n",
      "GPU 5: Tesla P100-SXM2-16GB (UUID: GPU-d2d22332-f462-061e-606a-3d6a5ea89848)\r\n",
      "GPU 6: Tesla P100-SXM2-16GB (UUID: GPU-5cc8b757-ee04-3bbb-5866-1f9f8c404a54)\r\n",
      "GPU 7: Tesla P100-SXM2-16GB (UUID: GPU-3016922d-1da7-46cd-17f3-cb6b3ab17bc3)\r\n"
     ]
    }
   ],
   "source": [
    "!nvidia-smi -L"
   ]
  },
  {
   "cell_type": "code",
   "execution_count": 12,
   "metadata": {
    "collapsed": true
   },
   "outputs": [],
   "source": [
    "def runXGBoost(param):\n",
    "    have_updater = \"updater\" in param.keys()\n",
    "    label = \"XGBoost \" \\\n",
    "        + (\"GPU hist\" if have_updater and param[\"updater\"]==\"grow_gpu_hist\" else \"GPU exact\" if have_updater and param[\"updater\"]==\"grow_gpu\" else \"CPU\") \\\n",
    "        + \" \" + (param[\"tree_method\"] if \"updater\" not in param.keys() else \"\")\n",
    "    print(label)\n",
    "    print(\"=====================\")\n",
    "    for k, v in param.items():\n",
    "        print(k, v)\n",
    "    print(\"=====================\")\n",
    "    \n",
    "    t_start = time.time()\n",
    "    dtrain = xgb.DMatrix(train.values, label = train_target.values, feature_names=[str(c) for c in cols])\n",
    "    tt = time.time() - t_start\n",
    "    print(\"Time to create DMatrix (sec): \", tt)\n",
    "    dmatrix_times.append(tt)\n",
    "    \n",
    "    t_start = time.time()\n",
    "    bst = xgb.train(param, dtrain, num_round)\n",
    "    tt = time.time() - t_start\n",
    "    print(\"Time to train (sec): \", tt)\n",
    "    train_times.append(tt)\n",
    "\n",
    "    t_start = time.time()\n",
    "    preds = bst.predict(dtrain)\n",
    "    tt = time.time() - t_start\n",
    "    print(\"Time to predict (sec): \", tt)\n",
    "    score_times.append(tt)\n",
    "\n",
    "    labels = dtrain.get_label()\n",
    "    auc = metrics.roc_auc_score(labels, preds)\n",
    "    print(\"Training AUC:\", auc)\n",
    "    valid_aucs.append(auc)\n",
    "    plot_labels.append(label)\n",
    "    \n",
    "    fs = bst.get_fscore()\n",
    "    \n",
    "    # Optional: Uncomment to show variable importance\n",
    "    #varimp = pd.DataFrame({'Importance': list(fs.values()), 'Feature': list(fs.keys())})\n",
    "    #varimp.sort_values(by = 'Importance', inplace = True, ascending = False)\n",
    "    #varimp.head(10).plot(label='importance',kind=\"barh\",x=\"Feature\",y=\"Importance\").invert_yaxis()"
   ]
  },
  {
   "cell_type": "code",
   "execution_count": 13,
   "metadata": {
    "collapsed": true
   },
   "outputs": [],
   "source": [
    "valid_aucs = []\n",
    "dmatrix_times = []\n",
    "train_times = []\n",
    "score_times = []\n",
    "plot_labels = []"
   ]
  },
  {
   "cell_type": "code",
   "execution_count": 14,
   "metadata": {
    "scrolled": false
   },
   "outputs": [
    {
     "name": "stdout",
     "output_type": "stream",
     "text": [
      "XGBoost CPU exact\n",
      "=====================\n",
      "objective reg:logistic\n",
      "max_depth 10\n",
      "eta 0.02\n",
      "tree_method exact\n",
      "subsample 0.7\n",
      "colsample_bytree 0.9\n",
      "min_child_weight 5\n",
      "seed 12345\n",
      "=====================\n",
      "Time to create DMatrix (sec):  1.3018410205841064\n",
      "Time to train (sec):  156.89837384223938\n",
      "Time to predict (sec):  0.009923458099365234\n",
      "Training AUC: 0.814825032969\n"
     ]
    }
   ],
   "source": [
    "param = {\n",
    "    \"objective\":('reg:logistic' if num_class>1 else 'reg:linear')\n",
    "    , \"max_depth\":max_depth\n",
    "    , \"eta\":learn_rate\n",
    "    , \"tree_method\":\"exact\"\n",
    "    , \"subsample\":0.7\n",
    "    , \"colsample_bytree\":0.9\n",
    "    , \"min_child_weight\":5\n",
    "    , \"seed\":12345\n",
    "}\n",
    "runXGBoost(param)"
   ]
  },
  {
   "cell_type": "code",
   "execution_count": 15,
   "metadata": {
    "scrolled": true
   },
   "outputs": [
    {
     "name": "stdout",
     "output_type": "stream",
     "text": [
      "XGBoost CPU approx\n",
      "=====================\n",
      "objective reg:logistic\n",
      "max_depth 10\n",
      "eta 0.02\n",
      "tree_method approx\n",
      "subsample 0.7\n",
      "colsample_bytree 0.9\n",
      "min_child_weight 5\n",
      "seed 12345\n",
      "=====================\n",
      "Time to create DMatrix (sec):  1.3085696697235107\n",
      "Time to train (sec):  112.52851748466492\n",
      "Time to predict (sec):  0.006969928741455078\n",
      "Training AUC: 0.812860299622\n"
     ]
    }
   ],
   "source": [
    "param = {\n",
    "    \"objective\":('reg:logistic' if num_class>1 else 'reg:linear')\n",
    "    , \"max_depth\":max_depth\n",
    "    , \"eta\":learn_rate\n",
    "    , \"tree_method\":\"approx\"\n",
    "    , \"subsample\":0.7\n",
    "    , \"colsample_bytree\":0.9\n",
    "    , \"min_child_weight\":5\n",
    "    , \"seed\":12345\n",
    "}\n",
    "runXGBoost(param)"
   ]
  },
  {
   "cell_type": "code",
   "execution_count": 16,
   "metadata": {},
   "outputs": [
    {
     "name": "stdout",
     "output_type": "stream",
     "text": [
      "XGBoost CPU hist\n",
      "=====================\n",
      "objective reg:logistic\n",
      "max_depth 10\n",
      "eta 0.02\n",
      "tree_method hist\n",
      "subsample 0.7\n",
      "colsample_bytree 0.9\n",
      "min_child_weight 5\n",
      "seed 12345\n",
      "=====================\n",
      "Time to create DMatrix (sec):  1.0684473514556885\n",
      "Time to train (sec):  74.41968321800232\n",
      "Time to predict (sec):  0.007252216339111328\n",
      "Training AUC: 0.813941675296\n"
     ]
    }
   ],
   "source": [
    "param = {\n",
    "    \"objective\":('reg:logistic' if num_class>1 else 'reg:linear')\n",
    "    , \"max_depth\":max_depth\n",
    "    , \"eta\":learn_rate\n",
    "    , \"tree_method\":\"hist\"\n",
    "    , \"subsample\":0.7\n",
    "    , \"colsample_bytree\":0.9\n",
    "    , \"min_child_weight\":5\n",
    "    , \"seed\":12345\n",
    "}\n",
    "runXGBoost(param)"
   ]
  },
  {
   "cell_type": "code",
   "execution_count": 17,
   "metadata": {
    "scrolled": true
   },
   "outputs": [
    {
     "name": "stdout",
     "output_type": "stream",
     "text": [
      "XGBoost GPU exact \n",
      "=====================\n",
      "objective reg:logistic\n",
      "max_depth 10\n",
      "eta 0.02\n",
      "tree_method exact\n",
      "updater grow_gpu\n",
      "subsample 0.7\n",
      "colsample_bytree 0.9\n",
      "min_child_weight 5\n",
      "seed 12345\n",
      "=====================\n",
      "Time to create DMatrix (sec):  1.0562524795532227\n",
      "Time to train (sec):  69.6183352470398\n",
      "Time to predict (sec):  0.0040585994720458984\n",
      "Training AUC: 0.814253361342\n"
     ]
    }
   ],
   "source": [
    "param = {\n",
    "    \"objective\":('reg:logistic' if num_class>1 else 'reg:linear')\n",
    "    , \"max_depth\":max_depth\n",
    "    , \"eta\":learn_rate\n",
    "    , \"tree_method\":\"exact\"\n",
    "    , \"updater\":\"grow_gpu\"\n",
    "    , \"subsample\":0.7\n",
    "    , \"colsample_bytree\":0.9\n",
    "    , \"min_child_weight\":5\n",
    "    , \"seed\":12345\n",
    "}\n",
    "runXGBoost(param)"
   ]
  },
  {
   "cell_type": "code",
   "execution_count": 18,
   "metadata": {
    "scrolled": false
   },
   "outputs": [
    {
     "name": "stdout",
     "output_type": "stream",
     "text": [
      "XGBoost GPU hist \n",
      "=====================\n",
      "objective reg:logistic\n",
      "max_depth 10\n",
      "eta 0.02\n",
      "tree_method exact\n",
      "updater grow_gpu_hist\n",
      "subsample 0.7\n",
      "colsample_bytree 0.9\n",
      "min_child_weight 5\n",
      "seed 12345\n",
      "=====================\n",
      "Time to create DMatrix (sec):  1.059044361114502\n",
      "Time to train (sec):  5.205292224884033\n",
      "Time to predict (sec):  0.0067708492279052734\n",
      "Training AUC: 0.813602860314\n"
     ]
    }
   ],
   "source": [
    "param = {\n",
    "    \"objective\":('reg:logistic' if num_class>1 else 'reg:linear')\n",
    "    , \"max_depth\":max_depth\n",
    "    , \"eta\":learn_rate\n",
    "    , \"tree_method\":\"exact\"\n",
    "    , \"updater\":\"grow_gpu_hist\"\n",
    "    , \"subsample\":0.7\n",
    "    , \"colsample_bytree\":0.9\n",
    "    , \"min_child_weight\":5\n",
    "    , \"seed\":12345\n",
    "}\n",
    "runXGBoost(param)"
   ]
  },
  {
   "cell_type": "code",
   "execution_count": 19,
   "metadata": {
    "scrolled": false
   },
   "outputs": [
    {
     "data": {
      "text/html": [
       "<div>\n",
       "<style>\n",
       "    .dataframe thead tr:only-child th {\n",
       "        text-align: right;\n",
       "    }\n",
       "\n",
       "    .dataframe thead th {\n",
       "        text-align: left;\n",
       "    }\n",
       "\n",
       "    .dataframe tbody tr th {\n",
       "        vertical-align: top;\n",
       "    }\n",
       "</style>\n",
       "<table border=\"1\" class=\"dataframe\">\n",
       "  <thead>\n",
       "    <tr style=\"text-align: right;\">\n",
       "      <th></th>\n",
       "      <th>algorithm</th>\n",
       "      <th>dmatrix time</th>\n",
       "      <th>scoring time</th>\n",
       "      <th>training AUC</th>\n",
       "      <th>training time</th>\n",
       "    </tr>\n",
       "  </thead>\n",
       "  <tbody>\n",
       "    <tr>\n",
       "      <th>4</th>\n",
       "      <td>XGBoost GPU hist</td>\n",
       "      <td>1.059044</td>\n",
       "      <td>0.006771</td>\n",
       "      <td>0.813603</td>\n",
       "      <td>5.205292</td>\n",
       "    </tr>\n",
       "    <tr>\n",
       "      <th>3</th>\n",
       "      <td>XGBoost GPU exact</td>\n",
       "      <td>1.056252</td>\n",
       "      <td>0.004059</td>\n",
       "      <td>0.814253</td>\n",
       "      <td>69.618335</td>\n",
       "    </tr>\n",
       "    <tr>\n",
       "      <th>2</th>\n",
       "      <td>XGBoost CPU hist</td>\n",
       "      <td>1.068447</td>\n",
       "      <td>0.007252</td>\n",
       "      <td>0.813942</td>\n",
       "      <td>74.419683</td>\n",
       "    </tr>\n",
       "    <tr>\n",
       "      <th>1</th>\n",
       "      <td>XGBoost CPU approx</td>\n",
       "      <td>1.308570</td>\n",
       "      <td>0.006970</td>\n",
       "      <td>0.812860</td>\n",
       "      <td>112.528517</td>\n",
       "    </tr>\n",
       "    <tr>\n",
       "      <th>0</th>\n",
       "      <td>XGBoost CPU exact</td>\n",
       "      <td>1.301841</td>\n",
       "      <td>0.009923</td>\n",
       "      <td>0.814825</td>\n",
       "      <td>156.898374</td>\n",
       "    </tr>\n",
       "  </tbody>\n",
       "</table>\n",
       "</div>"
      ],
      "text/plain": [
       "            algorithm  dmatrix time  scoring time  training AUC  training time\n",
       "4   XGBoost GPU hist       1.059044      0.006771      0.813603       5.205292\n",
       "3  XGBoost GPU exact       1.056252      0.004059      0.814253      69.618335\n",
       "2    XGBoost CPU hist      1.068447      0.007252      0.813942      74.419683\n",
       "1  XGBoost CPU approx      1.308570      0.006970      0.812860     112.528517\n",
       "0   XGBoost CPU exact      1.301841      0.009923      0.814825     156.898374"
      ]
     },
     "execution_count": 19,
     "metadata": {},
     "output_type": "execute_result"
    }
   ],
   "source": [
    "data = pd.DataFrame({'algorithm'  :plot_labels,\n",
    "                     'dmatrix time':dmatrix_times,\n",
    "                     'training time':train_times,\n",
    "                     'scoring time':score_times,\n",
    "                     'training AUC' :valid_aucs}).sort_values(by=\"training time\")\n",
    "data"
   ]
  },
  {
   "cell_type": "code",
   "execution_count": 27,
   "metadata": {},
   "outputs": [
    {
     "data": {
      "text/plain": [
       "<matplotlib.axes._subplots.AxesSubplot at 0x2b0caf83ac18>"
      ]
     },
     "execution_count": 27,
     "metadata": {},
     "output_type": "execute_result"
    },
    {
     "data": {
      "image/png": "[encoded data removed]",
      "text/plain": [
       "<matplotlib.figure.Figure at 0x2b0d7b287390>"
      ]
     },
     "metadata": {},
     "output_type": "display_data"
    },
    {
     "data": {
      "image/png": "[encoded data removed]",
      "text/plain": [
       "<matplotlib.figure.Figure at 0x2b0caf824dd8>"
      ]
     },
     "metadata": {},
     "output_type": "display_data"
    }
   ],
   "source": [
    "data.plot(label=\"training time\",kind='barh',x='algorithm',y='training time')\n",
    "data.plot(title=\"training AUC\",kind='barh',x='algorithm',y='training AUC',legend=False)"
   ]
  }
 ],
 "metadata": {
  "anaconda-cloud": {},
  "kernelspec": {
   "display_name": "Python 3",
   "language": "python",
   "name": "python3"
  },
  "language_info": {
   "codemirror_mode": {
    "name": "ipython",
    "version": 3
   },
   "file_extension": ".py",
   "mimetype": "text/x-python",
   "name": "python",
   "nbconvert_exporter": "python",
   "pygments_lexer": "ipython3",
   "version": "3.6.1"
  }
 },
 "nbformat": 4,
 "nbformat_minor": 2
}
